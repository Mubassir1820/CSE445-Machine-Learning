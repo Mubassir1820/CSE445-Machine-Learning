{
 "cells": [
  {
   "cell_type": "markdown",
   "id": "c7e32922",
   "metadata": {},
   "source": [
    "# Importing all the Libraries and packages"
   ]
  },
  {
   "cell_type": "code",
   "execution_count": 1,
   "id": "051cd86c",
   "metadata": {},
   "outputs": [],
   "source": [
    "import pandas as pd\n",
    "import seaborn as sns\n",
    "import numpy as np\n",
    "from matplotlib import pyplot as plt\n",
    "from sklearn.model_selection import train_test_split\n",
    "from sklearn.tree import DecisionTreeClassifier\n"
   ]
  },
  {
   "cell_type": "markdown",
   "id": "7cfd58cf",
   "metadata": {},
   "source": [
    "# Read the raw data into python from csv file"
   ]
  },
  {
   "cell_type": "code",
   "execution_count": 3,
   "id": "80187877",
   "metadata": {
    "scrolled": true
   },
   "outputs": [
    {
     "data": {
      "text/html": [
       "<div>\n",
       "<style scoped>\n",
       "    .dataframe tbody tr th:only-of-type {\n",
       "        vertical-align: middle;\n",
       "    }\n",
       "\n",
       "    .dataframe tbody tr th {\n",
       "        vertical-align: top;\n",
       "    }\n",
       "\n",
       "    .dataframe thead th {\n",
       "        text-align: right;\n",
       "    }\n",
       "</style>\n",
       "<table border=\"1\" class=\"dataframe\">\n",
       "  <thead>\n",
       "    <tr style=\"text-align: right;\">\n",
       "      <th></th>\n",
       "      <th>Age</th>\n",
       "      <th>Attrition</th>\n",
       "      <th>BusinessTravel</th>\n",
       "      <th>DailyRate</th>\n",
       "      <th>Department</th>\n",
       "      <th>DistanceFromHome</th>\n",
       "      <th>Education</th>\n",
       "      <th>EducationField</th>\n",
       "      <th>EmployeeCount</th>\n",
       "      <th>EmployeeNumber</th>\n",
       "      <th>...</th>\n",
       "      <th>RelationshipSatisfaction</th>\n",
       "      <th>StandardHours</th>\n",
       "      <th>StockOptionLevel</th>\n",
       "      <th>TotalWorkingYears</th>\n",
       "      <th>TrainingTimesLastYear</th>\n",
       "      <th>WorkLifeBalance</th>\n",
       "      <th>YearsAtCompany</th>\n",
       "      <th>YearsInCurrentRole</th>\n",
       "      <th>YearsSinceLastPromotion</th>\n",
       "      <th>YearsWithCurrManager</th>\n",
       "    </tr>\n",
       "  </thead>\n",
       "  <tbody>\n",
       "    <tr>\n",
       "      <th>0</th>\n",
       "      <td>41</td>\n",
       "      <td>Yes</td>\n",
       "      <td>Travel_Rarely</td>\n",
       "      <td>1102</td>\n",
       "      <td>Sales</td>\n",
       "      <td>1</td>\n",
       "      <td>2</td>\n",
       "      <td>Life Sciences</td>\n",
       "      <td>1</td>\n",
       "      <td>1</td>\n",
       "      <td>...</td>\n",
       "      <td>1</td>\n",
       "      <td>80</td>\n",
       "      <td>0</td>\n",
       "      <td>8</td>\n",
       "      <td>0</td>\n",
       "      <td>1</td>\n",
       "      <td>6</td>\n",
       "      <td>4</td>\n",
       "      <td>0</td>\n",
       "      <td>5</td>\n",
       "    </tr>\n",
       "    <tr>\n",
       "      <th>1</th>\n",
       "      <td>49</td>\n",
       "      <td>No</td>\n",
       "      <td>Travel_Frequently</td>\n",
       "      <td>279</td>\n",
       "      <td>Research &amp; Development</td>\n",
       "      <td>8</td>\n",
       "      <td>1</td>\n",
       "      <td>Life Sciences</td>\n",
       "      <td>1</td>\n",
       "      <td>2</td>\n",
       "      <td>...</td>\n",
       "      <td>4</td>\n",
       "      <td>80</td>\n",
       "      <td>1</td>\n",
       "      <td>10</td>\n",
       "      <td>3</td>\n",
       "      <td>3</td>\n",
       "      <td>10</td>\n",
       "      <td>7</td>\n",
       "      <td>1</td>\n",
       "      <td>7</td>\n",
       "    </tr>\n",
       "    <tr>\n",
       "      <th>2</th>\n",
       "      <td>37</td>\n",
       "      <td>Yes</td>\n",
       "      <td>Travel_Rarely</td>\n",
       "      <td>1373</td>\n",
       "      <td>Research &amp; Development</td>\n",
       "      <td>2</td>\n",
       "      <td>2</td>\n",
       "      <td>Other</td>\n",
       "      <td>1</td>\n",
       "      <td>4</td>\n",
       "      <td>...</td>\n",
       "      <td>2</td>\n",
       "      <td>80</td>\n",
       "      <td>0</td>\n",
       "      <td>7</td>\n",
       "      <td>3</td>\n",
       "      <td>3</td>\n",
       "      <td>0</td>\n",
       "      <td>0</td>\n",
       "      <td>0</td>\n",
       "      <td>0</td>\n",
       "    </tr>\n",
       "    <tr>\n",
       "      <th>3</th>\n",
       "      <td>33</td>\n",
       "      <td>No</td>\n",
       "      <td>Travel_Frequently</td>\n",
       "      <td>1392</td>\n",
       "      <td>Research &amp; Development</td>\n",
       "      <td>3</td>\n",
       "      <td>4</td>\n",
       "      <td>Life Sciences</td>\n",
       "      <td>1</td>\n",
       "      <td>5</td>\n",
       "      <td>...</td>\n",
       "      <td>3</td>\n",
       "      <td>80</td>\n",
       "      <td>0</td>\n",
       "      <td>8</td>\n",
       "      <td>3</td>\n",
       "      <td>3</td>\n",
       "      <td>8</td>\n",
       "      <td>7</td>\n",
       "      <td>3</td>\n",
       "      <td>0</td>\n",
       "    </tr>\n",
       "    <tr>\n",
       "      <th>4</th>\n",
       "      <td>27</td>\n",
       "      <td>No</td>\n",
       "      <td>Travel_Rarely</td>\n",
       "      <td>591</td>\n",
       "      <td>Research &amp; Development</td>\n",
       "      <td>2</td>\n",
       "      <td>1</td>\n",
       "      <td>Medical</td>\n",
       "      <td>1</td>\n",
       "      <td>7</td>\n",
       "      <td>...</td>\n",
       "      <td>4</td>\n",
       "      <td>80</td>\n",
       "      <td>1</td>\n",
       "      <td>6</td>\n",
       "      <td>3</td>\n",
       "      <td>3</td>\n",
       "      <td>2</td>\n",
       "      <td>2</td>\n",
       "      <td>2</td>\n",
       "      <td>2</td>\n",
       "    </tr>\n",
       "  </tbody>\n",
       "</table>\n",
       "<p>5 rows × 35 columns</p>\n",
       "</div>"
      ],
      "text/plain": [
       "   Age Attrition     BusinessTravel  DailyRate              Department  \\\n",
       "0   41       Yes      Travel_Rarely       1102                   Sales   \n",
       "1   49        No  Travel_Frequently        279  Research & Development   \n",
       "2   37       Yes      Travel_Rarely       1373  Research & Development   \n",
       "3   33        No  Travel_Frequently       1392  Research & Development   \n",
       "4   27        No      Travel_Rarely        591  Research & Development   \n",
       "\n",
       "   DistanceFromHome  Education EducationField  EmployeeCount  EmployeeNumber  \\\n",
       "0                 1          2  Life Sciences              1               1   \n",
       "1                 8          1  Life Sciences              1               2   \n",
       "2                 2          2          Other              1               4   \n",
       "3                 3          4  Life Sciences              1               5   \n",
       "4                 2          1        Medical              1               7   \n",
       "\n",
       "   ...  RelationshipSatisfaction StandardHours  StockOptionLevel  \\\n",
       "0  ...                         1            80                 0   \n",
       "1  ...                         4            80                 1   \n",
       "2  ...                         2            80                 0   \n",
       "3  ...                         3            80                 0   \n",
       "4  ...                         4            80                 1   \n",
       "\n",
       "   TotalWorkingYears  TrainingTimesLastYear WorkLifeBalance  YearsAtCompany  \\\n",
       "0                  8                      0               1               6   \n",
       "1                 10                      3               3              10   \n",
       "2                  7                      3               3               0   \n",
       "3                  8                      3               3               8   \n",
       "4                  6                      3               3               2   \n",
       "\n",
       "  YearsInCurrentRole  YearsSinceLastPromotion  YearsWithCurrManager  \n",
       "0                  4                        0                     5  \n",
       "1                  7                        1                     7  \n",
       "2                  0                        0                     0  \n",
       "3                  7                        3                     0  \n",
       "4                  2                        2                     2  \n",
       "\n",
       "[5 rows x 35 columns]"
      ]
     },
     "execution_count": 3,
     "metadata": {},
     "output_type": "execute_result"
    }
   ],
   "source": [
    "df = pd.read_csv(\"Employee-Resignation.csv\")\n",
    "df.head()\n"
   ]
  },
  {
   "cell_type": "markdown",
   "id": "9e6715f3",
   "metadata": {},
   "source": [
    "# Data Pre-Processing\n"
   ]
  },
  {
   "cell_type": "code",
   "execution_count": 9,
   "id": "87412bf2",
   "metadata": {},
   "outputs": [
    {
     "name": "stdout",
     "output_type": "stream",
     "text": [
      "(1470, 35)\n"
     ]
    }
   ],
   "source": [
    "print(df.shape)"
   ]
  },
  {
   "cell_type": "code",
   "execution_count": 10,
   "id": "111a862f",
   "metadata": {},
   "outputs": [
    {
     "name": "stdout",
     "output_type": "stream",
     "text": [
      "['Age', 'Attrition', 'BusinessTravel', 'DailyRate', 'Department', 'DistanceFromHome', 'Education', 'EducationField', 'EmployeeCount', 'EmployeeNumber', 'EnvironmentSatisfaction', 'Gender', 'HourlyRate', 'JobInvolvement', 'JobLevel', 'JobRole', 'JobSatisfaction', 'MaritalStatus', 'MonthlyIncome', 'MonthlyRate', 'NumCompaniesWorked', 'Over18', 'OverTime', 'PercentSalaryHike', 'PerformanceRating', 'RelationshipSatisfaction', 'StandardHours', 'StockOptionLevel', 'TotalWorkingYears', 'TrainingTimesLastYear', 'WorkLifeBalance', 'YearsAtCompany', 'YearsInCurrentRole', 'YearsSinceLastPromotion', 'YearsWithCurrManager']\n"
     ]
    }
   ],
   "source": [
    "print(df.columns.tolist())"
   ]
  },
  {
   "cell_type": "code",
   "execution_count": 5,
   "id": "47672519",
   "metadata": {},
   "outputs": [
    {
     "name": "stdout",
     "output_type": "stream",
     "text": [
      "<class 'pandas.core.frame.DataFrame'>\n",
      "RangeIndex: 1470 entries, 0 to 1469\n",
      "Data columns (total 35 columns):\n",
      " #   Column                    Non-Null Count  Dtype \n",
      "---  ------                    --------------  ----- \n",
      " 0   Age                       1470 non-null   int64 \n",
      " 1   Attrition                 1470 non-null   object\n",
      " 2   BusinessTravel            1470 non-null   object\n",
      " 3   DailyRate                 1470 non-null   int64 \n",
      " 4   Department                1470 non-null   object\n",
      " 5   DistanceFromHome          1470 non-null   int64 \n",
      " 6   Education                 1470 non-null   int64 \n",
      " 7   EducationField            1470 non-null   object\n",
      " 8   EmployeeCount             1470 non-null   int64 \n",
      " 9   EmployeeNumber            1470 non-null   int64 \n",
      " 10  EnvironmentSatisfaction   1470 non-null   int64 \n",
      " 11  Gender                    1470 non-null   object\n",
      " 12  HourlyRate                1470 non-null   int64 \n",
      " 13  JobInvolvement            1470 non-null   int64 \n",
      " 14  JobLevel                  1470 non-null   int64 \n",
      " 15  JobRole                   1470 non-null   object\n",
      " 16  JobSatisfaction           1470 non-null   int64 \n",
      " 17  MaritalStatus             1470 non-null   object\n",
      " 18  MonthlyIncome             1470 non-null   int64 \n",
      " 19  MonthlyRate               1470 non-null   int64 \n",
      " 20  NumCompaniesWorked        1470 non-null   int64 \n",
      " 21  Over18                    1470 non-null   object\n",
      " 22  OverTime                  1470 non-null   object\n",
      " 23  PercentSalaryHike         1470 non-null   int64 \n",
      " 24  PerformanceRating         1470 non-null   int64 \n",
      " 25  RelationshipSatisfaction  1470 non-null   int64 \n",
      " 26  StandardHours             1470 non-null   int64 \n",
      " 27  StockOptionLevel          1470 non-null   int64 \n",
      " 28  TotalWorkingYears         1470 non-null   int64 \n",
      " 29  TrainingTimesLastYear     1470 non-null   int64 \n",
      " 30  WorkLifeBalance           1470 non-null   int64 \n",
      " 31  YearsAtCompany            1470 non-null   int64 \n",
      " 32  YearsInCurrentRole        1470 non-null   int64 \n",
      " 33  YearsSinceLastPromotion   1470 non-null   int64 \n",
      " 34  YearsWithCurrManager      1470 non-null   int64 \n",
      "dtypes: int64(26), object(9)\n",
      "memory usage: 402.1+ KB\n"
     ]
    }
   ],
   "source": [
    "df.info()"
   ]
  },
  {
   "cell_type": "code",
   "execution_count": 12,
   "id": "dbbb069b",
   "metadata": {},
   "outputs": [
    {
     "data": {
      "text/plain": [
       "Age                         0\n",
       "Attrition                   0\n",
       "BusinessTravel              0\n",
       "DailyRate                   0\n",
       "Department                  0\n",
       "DistanceFromHome            0\n",
       "Education                   0\n",
       "EducationField              0\n",
       "EmployeeCount               0\n",
       "EmployeeNumber              0\n",
       "EnvironmentSatisfaction     0\n",
       "Gender                      0\n",
       "HourlyRate                  0\n",
       "JobInvolvement              0\n",
       "JobLevel                    0\n",
       "JobRole                     0\n",
       "JobSatisfaction             0\n",
       "MaritalStatus               0\n",
       "MonthlyIncome               0\n",
       "MonthlyRate                 0\n",
       "NumCompaniesWorked          0\n",
       "Over18                      0\n",
       "OverTime                    0\n",
       "PercentSalaryHike           0\n",
       "PerformanceRating           0\n",
       "RelationshipSatisfaction    0\n",
       "StandardHours               0\n",
       "StockOptionLevel            0\n",
       "TotalWorkingYears           0\n",
       "TrainingTimesLastYear       0\n",
       "WorkLifeBalance             0\n",
       "YearsAtCompany              0\n",
       "YearsInCurrentRole          0\n",
       "YearsSinceLastPromotion     0\n",
       "YearsWithCurrManager        0\n",
       "dtype: int64"
      ]
     },
     "execution_count": 12,
     "metadata": {},
     "output_type": "execute_result"
    }
   ],
   "source": [
    "df.isnull().sum()"
   ]
  },
  {
   "cell_type": "code",
   "execution_count": 13,
   "id": "5d1b09f6",
   "metadata": {},
   "outputs": [],
   "source": [
    "df.drop_duplicates(inplace = True)"
   ]
  },
  {
   "cell_type": "code",
   "execution_count": 14,
   "id": "c8ab2f1a",
   "metadata": {
    "scrolled": true
   },
   "outputs": [
    {
     "data": {
      "text/html": [
       "<div>\n",
       "<style scoped>\n",
       "    .dataframe tbody tr th:only-of-type {\n",
       "        vertical-align: middle;\n",
       "    }\n",
       "\n",
       "    .dataframe tbody tr th {\n",
       "        vertical-align: top;\n",
       "    }\n",
       "\n",
       "    .dataframe thead th {\n",
       "        text-align: right;\n",
       "    }\n",
       "</style>\n",
       "<table border=\"1\" class=\"dataframe\">\n",
       "  <thead>\n",
       "    <tr style=\"text-align: right;\">\n",
       "      <th></th>\n",
       "      <th>Age</th>\n",
       "      <th>DailyRate</th>\n",
       "      <th>DistanceFromHome</th>\n",
       "      <th>Education</th>\n",
       "      <th>EmployeeCount</th>\n",
       "      <th>EmployeeNumber</th>\n",
       "      <th>EnvironmentSatisfaction</th>\n",
       "      <th>HourlyRate</th>\n",
       "      <th>JobInvolvement</th>\n",
       "      <th>JobLevel</th>\n",
       "      <th>...</th>\n",
       "      <th>RelationshipSatisfaction</th>\n",
       "      <th>StandardHours</th>\n",
       "      <th>StockOptionLevel</th>\n",
       "      <th>TotalWorkingYears</th>\n",
       "      <th>TrainingTimesLastYear</th>\n",
       "      <th>WorkLifeBalance</th>\n",
       "      <th>YearsAtCompany</th>\n",
       "      <th>YearsInCurrentRole</th>\n",
       "      <th>YearsSinceLastPromotion</th>\n",
       "      <th>YearsWithCurrManager</th>\n",
       "    </tr>\n",
       "  </thead>\n",
       "  <tbody>\n",
       "    <tr>\n",
       "      <th>count</th>\n",
       "      <td>1470.000000</td>\n",
       "      <td>1470.000000</td>\n",
       "      <td>1470.000000</td>\n",
       "      <td>1470.000000</td>\n",
       "      <td>1470.0</td>\n",
       "      <td>1470.000000</td>\n",
       "      <td>1470.000000</td>\n",
       "      <td>1470.000000</td>\n",
       "      <td>1470.000000</td>\n",
       "      <td>1470.000000</td>\n",
       "      <td>...</td>\n",
       "      <td>1470.000000</td>\n",
       "      <td>1470.0</td>\n",
       "      <td>1470.000000</td>\n",
       "      <td>1470.000000</td>\n",
       "      <td>1470.000000</td>\n",
       "      <td>1470.000000</td>\n",
       "      <td>1470.000000</td>\n",
       "      <td>1470.000000</td>\n",
       "      <td>1470.000000</td>\n",
       "      <td>1470.000000</td>\n",
       "    </tr>\n",
       "    <tr>\n",
       "      <th>mean</th>\n",
       "      <td>36.923810</td>\n",
       "      <td>802.485714</td>\n",
       "      <td>9.192517</td>\n",
       "      <td>2.912925</td>\n",
       "      <td>1.0</td>\n",
       "      <td>1024.865306</td>\n",
       "      <td>2.721769</td>\n",
       "      <td>65.891156</td>\n",
       "      <td>2.729932</td>\n",
       "      <td>2.063946</td>\n",
       "      <td>...</td>\n",
       "      <td>2.712245</td>\n",
       "      <td>80.0</td>\n",
       "      <td>0.793878</td>\n",
       "      <td>11.279592</td>\n",
       "      <td>2.799320</td>\n",
       "      <td>2.761224</td>\n",
       "      <td>7.008163</td>\n",
       "      <td>4.229252</td>\n",
       "      <td>2.187755</td>\n",
       "      <td>4.123129</td>\n",
       "    </tr>\n",
       "    <tr>\n",
       "      <th>std</th>\n",
       "      <td>9.135373</td>\n",
       "      <td>403.509100</td>\n",
       "      <td>8.106864</td>\n",
       "      <td>1.024165</td>\n",
       "      <td>0.0</td>\n",
       "      <td>602.024335</td>\n",
       "      <td>1.093082</td>\n",
       "      <td>20.329428</td>\n",
       "      <td>0.711561</td>\n",
       "      <td>1.106940</td>\n",
       "      <td>...</td>\n",
       "      <td>1.081209</td>\n",
       "      <td>0.0</td>\n",
       "      <td>0.852077</td>\n",
       "      <td>7.780782</td>\n",
       "      <td>1.289271</td>\n",
       "      <td>0.706476</td>\n",
       "      <td>6.126525</td>\n",
       "      <td>3.623137</td>\n",
       "      <td>3.222430</td>\n",
       "      <td>3.568136</td>\n",
       "    </tr>\n",
       "    <tr>\n",
       "      <th>min</th>\n",
       "      <td>18.000000</td>\n",
       "      <td>102.000000</td>\n",
       "      <td>1.000000</td>\n",
       "      <td>1.000000</td>\n",
       "      <td>1.0</td>\n",
       "      <td>1.000000</td>\n",
       "      <td>1.000000</td>\n",
       "      <td>30.000000</td>\n",
       "      <td>1.000000</td>\n",
       "      <td>1.000000</td>\n",
       "      <td>...</td>\n",
       "      <td>1.000000</td>\n",
       "      <td>80.0</td>\n",
       "      <td>0.000000</td>\n",
       "      <td>0.000000</td>\n",
       "      <td>0.000000</td>\n",
       "      <td>1.000000</td>\n",
       "      <td>0.000000</td>\n",
       "      <td>0.000000</td>\n",
       "      <td>0.000000</td>\n",
       "      <td>0.000000</td>\n",
       "    </tr>\n",
       "    <tr>\n",
       "      <th>25%</th>\n",
       "      <td>30.000000</td>\n",
       "      <td>465.000000</td>\n",
       "      <td>2.000000</td>\n",
       "      <td>2.000000</td>\n",
       "      <td>1.0</td>\n",
       "      <td>491.250000</td>\n",
       "      <td>2.000000</td>\n",
       "      <td>48.000000</td>\n",
       "      <td>2.000000</td>\n",
       "      <td>1.000000</td>\n",
       "      <td>...</td>\n",
       "      <td>2.000000</td>\n",
       "      <td>80.0</td>\n",
       "      <td>0.000000</td>\n",
       "      <td>6.000000</td>\n",
       "      <td>2.000000</td>\n",
       "      <td>2.000000</td>\n",
       "      <td>3.000000</td>\n",
       "      <td>2.000000</td>\n",
       "      <td>0.000000</td>\n",
       "      <td>2.000000</td>\n",
       "    </tr>\n",
       "    <tr>\n",
       "      <th>50%</th>\n",
       "      <td>36.000000</td>\n",
       "      <td>802.000000</td>\n",
       "      <td>7.000000</td>\n",
       "      <td>3.000000</td>\n",
       "      <td>1.0</td>\n",
       "      <td>1020.500000</td>\n",
       "      <td>3.000000</td>\n",
       "      <td>66.000000</td>\n",
       "      <td>3.000000</td>\n",
       "      <td>2.000000</td>\n",
       "      <td>...</td>\n",
       "      <td>3.000000</td>\n",
       "      <td>80.0</td>\n",
       "      <td>1.000000</td>\n",
       "      <td>10.000000</td>\n",
       "      <td>3.000000</td>\n",
       "      <td>3.000000</td>\n",
       "      <td>5.000000</td>\n",
       "      <td>3.000000</td>\n",
       "      <td>1.000000</td>\n",
       "      <td>3.000000</td>\n",
       "    </tr>\n",
       "    <tr>\n",
       "      <th>75%</th>\n",
       "      <td>43.000000</td>\n",
       "      <td>1157.000000</td>\n",
       "      <td>14.000000</td>\n",
       "      <td>4.000000</td>\n",
       "      <td>1.0</td>\n",
       "      <td>1555.750000</td>\n",
       "      <td>4.000000</td>\n",
       "      <td>83.750000</td>\n",
       "      <td>3.000000</td>\n",
       "      <td>3.000000</td>\n",
       "      <td>...</td>\n",
       "      <td>4.000000</td>\n",
       "      <td>80.0</td>\n",
       "      <td>1.000000</td>\n",
       "      <td>15.000000</td>\n",
       "      <td>3.000000</td>\n",
       "      <td>3.000000</td>\n",
       "      <td>9.000000</td>\n",
       "      <td>7.000000</td>\n",
       "      <td>3.000000</td>\n",
       "      <td>7.000000</td>\n",
       "    </tr>\n",
       "    <tr>\n",
       "      <th>max</th>\n",
       "      <td>60.000000</td>\n",
       "      <td>1499.000000</td>\n",
       "      <td>29.000000</td>\n",
       "      <td>5.000000</td>\n",
       "      <td>1.0</td>\n",
       "      <td>2068.000000</td>\n",
       "      <td>4.000000</td>\n",
       "      <td>100.000000</td>\n",
       "      <td>4.000000</td>\n",
       "      <td>5.000000</td>\n",
       "      <td>...</td>\n",
       "      <td>4.000000</td>\n",
       "      <td>80.0</td>\n",
       "      <td>3.000000</td>\n",
       "      <td>40.000000</td>\n",
       "      <td>6.000000</td>\n",
       "      <td>4.000000</td>\n",
       "      <td>40.000000</td>\n",
       "      <td>18.000000</td>\n",
       "      <td>15.000000</td>\n",
       "      <td>17.000000</td>\n",
       "    </tr>\n",
       "  </tbody>\n",
       "</table>\n",
       "<p>8 rows × 26 columns</p>\n",
       "</div>"
      ],
      "text/plain": [
       "               Age    DailyRate  DistanceFromHome    Education  EmployeeCount  \\\n",
       "count  1470.000000  1470.000000       1470.000000  1470.000000         1470.0   \n",
       "mean     36.923810   802.485714          9.192517     2.912925            1.0   \n",
       "std       9.135373   403.509100          8.106864     1.024165            0.0   \n",
       "min      18.000000   102.000000          1.000000     1.000000            1.0   \n",
       "25%      30.000000   465.000000          2.000000     2.000000            1.0   \n",
       "50%      36.000000   802.000000          7.000000     3.000000            1.0   \n",
       "75%      43.000000  1157.000000         14.000000     4.000000            1.0   \n",
       "max      60.000000  1499.000000         29.000000     5.000000            1.0   \n",
       "\n",
       "       EmployeeNumber  EnvironmentSatisfaction   HourlyRate  JobInvolvement  \\\n",
       "count     1470.000000              1470.000000  1470.000000     1470.000000   \n",
       "mean      1024.865306                 2.721769    65.891156        2.729932   \n",
       "std        602.024335                 1.093082    20.329428        0.711561   \n",
       "min          1.000000                 1.000000    30.000000        1.000000   \n",
       "25%        491.250000                 2.000000    48.000000        2.000000   \n",
       "50%       1020.500000                 3.000000    66.000000        3.000000   \n",
       "75%       1555.750000                 4.000000    83.750000        3.000000   \n",
       "max       2068.000000                 4.000000   100.000000        4.000000   \n",
       "\n",
       "          JobLevel  ...  RelationshipSatisfaction  StandardHours  \\\n",
       "count  1470.000000  ...               1470.000000         1470.0   \n",
       "mean      2.063946  ...                  2.712245           80.0   \n",
       "std       1.106940  ...                  1.081209            0.0   \n",
       "min       1.000000  ...                  1.000000           80.0   \n",
       "25%       1.000000  ...                  2.000000           80.0   \n",
       "50%       2.000000  ...                  3.000000           80.0   \n",
       "75%       3.000000  ...                  4.000000           80.0   \n",
       "max       5.000000  ...                  4.000000           80.0   \n",
       "\n",
       "       StockOptionLevel  TotalWorkingYears  TrainingTimesLastYear  \\\n",
       "count       1470.000000        1470.000000            1470.000000   \n",
       "mean           0.793878          11.279592               2.799320   \n",
       "std            0.852077           7.780782               1.289271   \n",
       "min            0.000000           0.000000               0.000000   \n",
       "25%            0.000000           6.000000               2.000000   \n",
       "50%            1.000000          10.000000               3.000000   \n",
       "75%            1.000000          15.000000               3.000000   \n",
       "max            3.000000          40.000000               6.000000   \n",
       "\n",
       "       WorkLifeBalance  YearsAtCompany  YearsInCurrentRole  \\\n",
       "count      1470.000000     1470.000000         1470.000000   \n",
       "mean          2.761224        7.008163            4.229252   \n",
       "std           0.706476        6.126525            3.623137   \n",
       "min           1.000000        0.000000            0.000000   \n",
       "25%           2.000000        3.000000            2.000000   \n",
       "50%           3.000000        5.000000            3.000000   \n",
       "75%           3.000000        9.000000            7.000000   \n",
       "max           4.000000       40.000000           18.000000   \n",
       "\n",
       "       YearsSinceLastPromotion  YearsWithCurrManager  \n",
       "count              1470.000000           1470.000000  \n",
       "mean                  2.187755              4.123129  \n",
       "std                   3.222430              3.568136  \n",
       "min                   0.000000              0.000000  \n",
       "25%                   0.000000              2.000000  \n",
       "50%                   1.000000              3.000000  \n",
       "75%                   3.000000              7.000000  \n",
       "max                  15.000000             17.000000  \n",
       "\n",
       "[8 rows x 26 columns]"
      ]
     },
     "execution_count": 14,
     "metadata": {},
     "output_type": "execute_result"
    }
   ],
   "source": [
    "df.describe()"
   ]
  },
  {
   "cell_type": "code",
   "execution_count": 15,
   "id": "ba61abfb",
   "metadata": {
    "scrolled": false
   },
   "outputs": [
    {
     "name": "stdout",
     "output_type": "stream",
     "text": [
      "The number of values for feature Age:43\n",
      "The number of values for feature Attrition:2 -- ['Yes' 'No']\n",
      "The number of values for feature BusinessTravel:3 -- ['Travel_Rarely' 'Travel_Frequently' 'Non-Travel']\n",
      "The number of values for feature DailyRate:886\n",
      "The number of values for feature Department:3 -- ['Sales' 'Research & Development' 'Human Resources']\n",
      "The number of values for feature DistanceFromHome:29\n",
      "The number of values for feature Education:5 -- [2 1 4 3 5]\n",
      "The number of values for feature EducationField:6 -- ['Life Sciences' 'Other' 'Medical' 'Marketing' 'Technical Degree'\n",
      " 'Human Resources']\n",
      "The number of values for feature EmployeeCount:1 -- [1]\n",
      "The number of values for feature EmployeeNumber:1470\n",
      "The number of values for feature EnvironmentSatisfaction:4 -- [2 3 4 1]\n",
      "The number of values for feature Gender:2 -- ['Female' 'Male']\n",
      "The number of values for feature HourlyRate:71\n",
      "The number of values for feature JobInvolvement:4 -- [3 2 4 1]\n",
      "The number of values for feature JobLevel:5 -- [2 1 3 4 5]\n",
      "The number of values for feature JobRole:9 -- ['Sales Executive' 'Research Scientist' 'Laboratory Technician'\n",
      " 'Manufacturing Director' 'Healthcare Representative' 'Manager'\n",
      " 'Sales Representative' 'Research Director' 'Human Resources']\n",
      "The number of values for feature JobSatisfaction:4 -- [4 2 3 1]\n",
      "The number of values for feature MaritalStatus:3 -- ['Single' 'Married' 'Divorced']\n",
      "The number of values for feature MonthlyIncome:1349\n",
      "The number of values for feature MonthlyRate:1427\n",
      "The number of values for feature NumCompaniesWorked:10 -- [8 1 6 9 0 4 5 2 7 3]\n",
      "The number of values for feature Over18:1 -- ['Y']\n",
      "The number of values for feature OverTime:2 -- ['Yes' 'No']\n",
      "The number of values for feature PercentSalaryHike:15\n",
      "The number of values for feature PerformanceRating:2 -- [3 4]\n",
      "The number of values for feature RelationshipSatisfaction:4 -- [1 4 2 3]\n",
      "The number of values for feature StandardHours:1 -- [80]\n",
      "The number of values for feature StockOptionLevel:4 -- [0 1 3 2]\n",
      "The number of values for feature TotalWorkingYears:40\n",
      "The number of values for feature TrainingTimesLastYear:7 -- [0 3 2 5 1 4 6]\n",
      "The number of values for feature WorkLifeBalance:4 -- [1 3 2 4]\n",
      "The number of values for feature YearsAtCompany:37\n",
      "The number of values for feature YearsInCurrentRole:19\n",
      "The number of values for feature YearsSinceLastPromotion:16\n",
      "The number of values for feature YearsWithCurrManager:18\n"
     ]
    }
   ],
   "source": [
    "for column in df:\n",
    "    unique_vals = df[column].unique()\n",
    "    nr_values = len(unique_vals)\n",
    "    if nr_values < 12:\n",
    "        print('The number of values for feature {}:{} -- {}'.format(column, nr_values, unique_vals))\n",
    "    else:\n",
    "         print('The number of values for feature {}:{}'.format(column, nr_values))"
   ]
  },
  {
   "cell_type": "markdown",
   "id": "c703a7ff",
   "metadata": {},
   "source": [
    "# Making numerical representation of categorical values"
   ]
  },
  {
   "cell_type": "code",
   "execution_count": 16,
   "id": "eda14010",
   "metadata": {},
   "outputs": [],
   "source": [
    "df['Attrition'].replace(['Yes','No'],[1, 0], inplace=True)\n",
    "\n",
    "df['BusinessTravel'].replace(['Travel_Rarely','Travel_Frequently','Non-Travel'],[1,2,0], inplace=True)\n",
    "\n",
    "df['EducationField'].replace(['Life Sciences','Medical','Marketing','Technical Degree','Human Resources','Other'],[1,2,3,4,5,6], inplace=True)\n",
    "df['Department'].replace(['Sales','Research & Development', 'Human Resources'],[0,1,2], inplace=True)\n",
    "df['JobRole'].replace(['Sales Executive','Research Scientist','Laboratory Technician',\n",
    "'Manufacturing Director','Healthcare Representative','Manager',\n",
    "'Sales Representative','Research Director','Human Resources'],[1,2,3,4,5,6,7,8,9], inplace=True)\n",
    "\n",
    "df['MaritalStatus'].replace(['Single','Married','Divorced'],[1,2,0], inplace=True)\n",
    "\n",
    "df['OverTime'].replace(['Yes','No'],[1, 0], inplace=True)\n",
    "\n",
    "df['Gender'].replace(['Male','Female'],[0,1], inplace=True)\n",
    "df['Over18'].replace(['Y'],[1], inplace=True)"
   ]
  },
  {
   "cell_type": "code",
   "execution_count": 11,
   "id": "8bfc70fd",
   "metadata": {
    "scrolled": false
   },
   "outputs": [
    {
     "data": {
      "text/html": [
       "<div>\n",
       "<style scoped>\n",
       "    .dataframe tbody tr th:only-of-type {\n",
       "        vertical-align: middle;\n",
       "    }\n",
       "\n",
       "    .dataframe tbody tr th {\n",
       "        vertical-align: top;\n",
       "    }\n",
       "\n",
       "    .dataframe thead th {\n",
       "        text-align: right;\n",
       "    }\n",
       "</style>\n",
       "<table border=\"1\" class=\"dataframe\">\n",
       "  <thead>\n",
       "    <tr style=\"text-align: right;\">\n",
       "      <th></th>\n",
       "      <th>Age</th>\n",
       "      <th>Attrition</th>\n",
       "      <th>BusinessTravel</th>\n",
       "      <th>DailyRate</th>\n",
       "      <th>Department</th>\n",
       "      <th>DistanceFromHome</th>\n",
       "      <th>Education</th>\n",
       "      <th>EducationField</th>\n",
       "      <th>EmployeeCount</th>\n",
       "      <th>EmployeeNumber</th>\n",
       "      <th>...</th>\n",
       "      <th>RelationshipSatisfaction</th>\n",
       "      <th>StandardHours</th>\n",
       "      <th>StockOptionLevel</th>\n",
       "      <th>TotalWorkingYears</th>\n",
       "      <th>TrainingTimesLastYear</th>\n",
       "      <th>WorkLifeBalance</th>\n",
       "      <th>YearsAtCompany</th>\n",
       "      <th>YearsInCurrentRole</th>\n",
       "      <th>YearsSinceLastPromotion</th>\n",
       "      <th>YearsWithCurrManager</th>\n",
       "    </tr>\n",
       "  </thead>\n",
       "  <tbody>\n",
       "    <tr>\n",
       "      <th>0</th>\n",
       "      <td>41</td>\n",
       "      <td>1</td>\n",
       "      <td>1</td>\n",
       "      <td>1102</td>\n",
       "      <td>0</td>\n",
       "      <td>1</td>\n",
       "      <td>2</td>\n",
       "      <td>1</td>\n",
       "      <td>1</td>\n",
       "      <td>1</td>\n",
       "      <td>...</td>\n",
       "      <td>1</td>\n",
       "      <td>80</td>\n",
       "      <td>0</td>\n",
       "      <td>8</td>\n",
       "      <td>0</td>\n",
       "      <td>1</td>\n",
       "      <td>6</td>\n",
       "      <td>4</td>\n",
       "      <td>0</td>\n",
       "      <td>5</td>\n",
       "    </tr>\n",
       "    <tr>\n",
       "      <th>1</th>\n",
       "      <td>49</td>\n",
       "      <td>0</td>\n",
       "      <td>2</td>\n",
       "      <td>279</td>\n",
       "      <td>1</td>\n",
       "      <td>8</td>\n",
       "      <td>1</td>\n",
       "      <td>1</td>\n",
       "      <td>1</td>\n",
       "      <td>2</td>\n",
       "      <td>...</td>\n",
       "      <td>4</td>\n",
       "      <td>80</td>\n",
       "      <td>1</td>\n",
       "      <td>10</td>\n",
       "      <td>3</td>\n",
       "      <td>3</td>\n",
       "      <td>10</td>\n",
       "      <td>7</td>\n",
       "      <td>1</td>\n",
       "      <td>7</td>\n",
       "    </tr>\n",
       "    <tr>\n",
       "      <th>2</th>\n",
       "      <td>37</td>\n",
       "      <td>1</td>\n",
       "      <td>1</td>\n",
       "      <td>1373</td>\n",
       "      <td>1</td>\n",
       "      <td>2</td>\n",
       "      <td>2</td>\n",
       "      <td>6</td>\n",
       "      <td>1</td>\n",
       "      <td>4</td>\n",
       "      <td>...</td>\n",
       "      <td>2</td>\n",
       "      <td>80</td>\n",
       "      <td>0</td>\n",
       "      <td>7</td>\n",
       "      <td>3</td>\n",
       "      <td>3</td>\n",
       "      <td>0</td>\n",
       "      <td>0</td>\n",
       "      <td>0</td>\n",
       "      <td>0</td>\n",
       "    </tr>\n",
       "    <tr>\n",
       "      <th>3</th>\n",
       "      <td>33</td>\n",
       "      <td>0</td>\n",
       "      <td>2</td>\n",
       "      <td>1392</td>\n",
       "      <td>1</td>\n",
       "      <td>3</td>\n",
       "      <td>4</td>\n",
       "      <td>1</td>\n",
       "      <td>1</td>\n",
       "      <td>5</td>\n",
       "      <td>...</td>\n",
       "      <td>3</td>\n",
       "      <td>80</td>\n",
       "      <td>0</td>\n",
       "      <td>8</td>\n",
       "      <td>3</td>\n",
       "      <td>3</td>\n",
       "      <td>8</td>\n",
       "      <td>7</td>\n",
       "      <td>3</td>\n",
       "      <td>0</td>\n",
       "    </tr>\n",
       "    <tr>\n",
       "      <th>4</th>\n",
       "      <td>27</td>\n",
       "      <td>0</td>\n",
       "      <td>1</td>\n",
       "      <td>591</td>\n",
       "      <td>1</td>\n",
       "      <td>2</td>\n",
       "      <td>1</td>\n",
       "      <td>2</td>\n",
       "      <td>1</td>\n",
       "      <td>7</td>\n",
       "      <td>...</td>\n",
       "      <td>4</td>\n",
       "      <td>80</td>\n",
       "      <td>1</td>\n",
       "      <td>6</td>\n",
       "      <td>3</td>\n",
       "      <td>3</td>\n",
       "      <td>2</td>\n",
       "      <td>2</td>\n",
       "      <td>2</td>\n",
       "      <td>2</td>\n",
       "    </tr>\n",
       "    <tr>\n",
       "      <th>...</th>\n",
       "      <td>...</td>\n",
       "      <td>...</td>\n",
       "      <td>...</td>\n",
       "      <td>...</td>\n",
       "      <td>...</td>\n",
       "      <td>...</td>\n",
       "      <td>...</td>\n",
       "      <td>...</td>\n",
       "      <td>...</td>\n",
       "      <td>...</td>\n",
       "      <td>...</td>\n",
       "      <td>...</td>\n",
       "      <td>...</td>\n",
       "      <td>...</td>\n",
       "      <td>...</td>\n",
       "      <td>...</td>\n",
       "      <td>...</td>\n",
       "      <td>...</td>\n",
       "      <td>...</td>\n",
       "      <td>...</td>\n",
       "      <td>...</td>\n",
       "    </tr>\n",
       "    <tr>\n",
       "      <th>1465</th>\n",
       "      <td>36</td>\n",
       "      <td>0</td>\n",
       "      <td>2</td>\n",
       "      <td>884</td>\n",
       "      <td>1</td>\n",
       "      <td>23</td>\n",
       "      <td>2</td>\n",
       "      <td>2</td>\n",
       "      <td>1</td>\n",
       "      <td>2061</td>\n",
       "      <td>...</td>\n",
       "      <td>3</td>\n",
       "      <td>80</td>\n",
       "      <td>1</td>\n",
       "      <td>17</td>\n",
       "      <td>3</td>\n",
       "      <td>3</td>\n",
       "      <td>5</td>\n",
       "      <td>2</td>\n",
       "      <td>0</td>\n",
       "      <td>3</td>\n",
       "    </tr>\n",
       "    <tr>\n",
       "      <th>1466</th>\n",
       "      <td>39</td>\n",
       "      <td>0</td>\n",
       "      <td>1</td>\n",
       "      <td>613</td>\n",
       "      <td>1</td>\n",
       "      <td>6</td>\n",
       "      <td>1</td>\n",
       "      <td>2</td>\n",
       "      <td>1</td>\n",
       "      <td>2062</td>\n",
       "      <td>...</td>\n",
       "      <td>1</td>\n",
       "      <td>80</td>\n",
       "      <td>1</td>\n",
       "      <td>9</td>\n",
       "      <td>5</td>\n",
       "      <td>3</td>\n",
       "      <td>7</td>\n",
       "      <td>7</td>\n",
       "      <td>1</td>\n",
       "      <td>7</td>\n",
       "    </tr>\n",
       "    <tr>\n",
       "      <th>1467</th>\n",
       "      <td>27</td>\n",
       "      <td>0</td>\n",
       "      <td>1</td>\n",
       "      <td>155</td>\n",
       "      <td>1</td>\n",
       "      <td>4</td>\n",
       "      <td>3</td>\n",
       "      <td>1</td>\n",
       "      <td>1</td>\n",
       "      <td>2064</td>\n",
       "      <td>...</td>\n",
       "      <td>2</td>\n",
       "      <td>80</td>\n",
       "      <td>1</td>\n",
       "      <td>6</td>\n",
       "      <td>0</td>\n",
       "      <td>3</td>\n",
       "      <td>6</td>\n",
       "      <td>2</td>\n",
       "      <td>0</td>\n",
       "      <td>3</td>\n",
       "    </tr>\n",
       "    <tr>\n",
       "      <th>1468</th>\n",
       "      <td>49</td>\n",
       "      <td>0</td>\n",
       "      <td>2</td>\n",
       "      <td>1023</td>\n",
       "      <td>0</td>\n",
       "      <td>2</td>\n",
       "      <td>3</td>\n",
       "      <td>2</td>\n",
       "      <td>1</td>\n",
       "      <td>2065</td>\n",
       "      <td>...</td>\n",
       "      <td>4</td>\n",
       "      <td>80</td>\n",
       "      <td>0</td>\n",
       "      <td>17</td>\n",
       "      <td>3</td>\n",
       "      <td>2</td>\n",
       "      <td>9</td>\n",
       "      <td>6</td>\n",
       "      <td>0</td>\n",
       "      <td>8</td>\n",
       "    </tr>\n",
       "    <tr>\n",
       "      <th>1469</th>\n",
       "      <td>34</td>\n",
       "      <td>0</td>\n",
       "      <td>1</td>\n",
       "      <td>628</td>\n",
       "      <td>1</td>\n",
       "      <td>8</td>\n",
       "      <td>3</td>\n",
       "      <td>2</td>\n",
       "      <td>1</td>\n",
       "      <td>2068</td>\n",
       "      <td>...</td>\n",
       "      <td>1</td>\n",
       "      <td>80</td>\n",
       "      <td>0</td>\n",
       "      <td>6</td>\n",
       "      <td>3</td>\n",
       "      <td>4</td>\n",
       "      <td>4</td>\n",
       "      <td>3</td>\n",
       "      <td>1</td>\n",
       "      <td>2</td>\n",
       "    </tr>\n",
       "  </tbody>\n",
       "</table>\n",
       "<p>1470 rows × 35 columns</p>\n",
       "</div>"
      ],
      "text/plain": [
       "      Age  Attrition  BusinessTravel  DailyRate  Department  DistanceFromHome  \\\n",
       "0      41          1               1       1102           0                 1   \n",
       "1      49          0               2        279           1                 8   \n",
       "2      37          1               1       1373           1                 2   \n",
       "3      33          0               2       1392           1                 3   \n",
       "4      27          0               1        591           1                 2   \n",
       "...   ...        ...             ...        ...         ...               ...   \n",
       "1465   36          0               2        884           1                23   \n",
       "1466   39          0               1        613           1                 6   \n",
       "1467   27          0               1        155           1                 4   \n",
       "1468   49          0               2       1023           0                 2   \n",
       "1469   34          0               1        628           1                 8   \n",
       "\n",
       "      Education  EducationField  EmployeeCount  EmployeeNumber  ...  \\\n",
       "0             2               1              1               1  ...   \n",
       "1             1               1              1               2  ...   \n",
       "2             2               6              1               4  ...   \n",
       "3             4               1              1               5  ...   \n",
       "4             1               2              1               7  ...   \n",
       "...         ...             ...            ...             ...  ...   \n",
       "1465          2               2              1            2061  ...   \n",
       "1466          1               2              1            2062  ...   \n",
       "1467          3               1              1            2064  ...   \n",
       "1468          3               2              1            2065  ...   \n",
       "1469          3               2              1            2068  ...   \n",
       "\n",
       "      RelationshipSatisfaction  StandardHours  StockOptionLevel  \\\n",
       "0                            1             80                 0   \n",
       "1                            4             80                 1   \n",
       "2                            2             80                 0   \n",
       "3                            3             80                 0   \n",
       "4                            4             80                 1   \n",
       "...                        ...            ...               ...   \n",
       "1465                         3             80                 1   \n",
       "1466                         1             80                 1   \n",
       "1467                         2             80                 1   \n",
       "1468                         4             80                 0   \n",
       "1469                         1             80                 0   \n",
       "\n",
       "      TotalWorkingYears  TrainingTimesLastYear  WorkLifeBalance  \\\n",
       "0                     8                      0                1   \n",
       "1                    10                      3                3   \n",
       "2                     7                      3                3   \n",
       "3                     8                      3                3   \n",
       "4                     6                      3                3   \n",
       "...                 ...                    ...              ...   \n",
       "1465                 17                      3                3   \n",
       "1466                  9                      5                3   \n",
       "1467                  6                      0                3   \n",
       "1468                 17                      3                2   \n",
       "1469                  6                      3                4   \n",
       "\n",
       "      YearsAtCompany  YearsInCurrentRole  YearsSinceLastPromotion  \\\n",
       "0                  6                   4                        0   \n",
       "1                 10                   7                        1   \n",
       "2                  0                   0                        0   \n",
       "3                  8                   7                        3   \n",
       "4                  2                   2                        2   \n",
       "...              ...                 ...                      ...   \n",
       "1465               5                   2                        0   \n",
       "1466               7                   7                        1   \n",
       "1467               6                   2                        0   \n",
       "1468               9                   6                        0   \n",
       "1469               4                   3                        1   \n",
       "\n",
       "      YearsWithCurrManager  \n",
       "0                        5  \n",
       "1                        7  \n",
       "2                        0  \n",
       "3                        0  \n",
       "4                        2  \n",
       "...                    ...  \n",
       "1465                     3  \n",
       "1466                     7  \n",
       "1467                     3  \n",
       "1468                     8  \n",
       "1469                     2  \n",
       "\n",
       "[1470 rows x 35 columns]"
      ]
     },
     "execution_count": 11,
     "metadata": {},
     "output_type": "execute_result"
    }
   ],
   "source": [
    "df"
   ]
  },
  {
   "cell_type": "code",
   "execution_count": 12,
   "id": "864b292e",
   "metadata": {},
   "outputs": [
    {
     "data": {
      "image/png": "[encoded data removed]",
      "text/plain": [
       "<Figure size 432x288 with 1 Axes>"
      ]
     },
     "metadata": {
      "needs_background": "light"
     },
     "output_type": "display_data"
    }
   ],
   "source": [
    "sns.countplot(x ='MaritalStatus', data = df, hue = 'Attrition');"
   ]
  },
  {
   "cell_type": "code",
   "execution_count": 13,
   "id": "743dfc26",
   "metadata": {
    "scrolled": true
   },
   "outputs": [
    {
     "data": {
      "text/plain": [
       "<AxesSubplot:xlabel='TotalWorkingYears', ylabel='count'>"
      ]
     },
     "execution_count": 13,
     "metadata": {},
     "output_type": "execute_result"
    },
    {
     "data": {
      "image/png": "[encoded data removed]",
      "text/plain": [
       "<Figure size 432x288 with 1 Axes>"
      ]
     },
     "metadata": {
      "needs_background": "light"
     },
     "output_type": "display_data"
    }
   ],
   "source": [
    "sns.countplot(x = 'TotalWorkingYears', data = df, hue = 'Attrition')"
   ]
  },
  {
   "cell_type": "code",
   "execution_count": 14,
   "id": "882d4d5c",
   "metadata": {},
   "outputs": [
    {
     "data": {
      "text/plain": [
       "<AxesSubplot:xlabel='OverTime', ylabel='count'>"
      ]
     },
     "execution_count": 14,
     "metadata": {},
     "output_type": "execute_result"
    },
    {
     "data": {
      "image/png": "[encoded data removed]",
      "text/plain": [
       "<Figure size 432x288 with 1 Axes>"
      ]
     },
     "metadata": {
      "needs_background": "light"
     },
     "output_type": "display_data"
    }
   ],
   "source": [
    "sns.countplot(x = 'OverTime', data = df, hue = 'Attrition')"
   ]
  },
  {
   "cell_type": "code",
   "execution_count": 15,
   "id": "f9411f80",
   "metadata": {},
   "outputs": [
    {
     "data": {
      "text/plain": [
       "<AxesSubplot:xlabel='JobInvolvement', ylabel='count'>"
      ]
     },
     "execution_count": 15,
     "metadata": {},
     "output_type": "execute_result"
    },
    {
     "data": {
      "image/png": "[encoded data removed]",
      "text/plain": [
       "<Figure size 432x288 with 1 Axes>"
      ]
     },
     "metadata": {
      "needs_background": "light"
     },
     "output_type": "display_data"
    }
   ],
   "source": [
    "sns.countplot( x = 'JobInvolvement', data = df, hue = 'Attrition')\n"
   ]
  },
  {
   "cell_type": "code",
   "execution_count": 16,
   "id": "37f3a3f7",
   "metadata": {},
   "outputs": [
    {
     "data": {
      "text/plain": [
       "<AxesSubplot:xlabel='EnvironmentSatisfaction', ylabel='count'>"
      ]
     },
     "execution_count": 16,
     "metadata": {},
     "output_type": "execute_result"
    },
    {
     "data": {
      "image/png": "[encoded data removed]",
      "text/plain": [
       "<Figure size 432x288 with 1 Axes>"
      ]
     },
     "metadata": {
      "needs_background": "light"
     },
     "output_type": "display_data"
    }
   ],
   "source": [
    "sns.countplot( x = 'EnvironmentSatisfaction', data = df, hue = 'Attrition')"
   ]
  },
  {
   "cell_type": "code",
   "execution_count": 17,
   "id": "2268b1b5",
   "metadata": {},
   "outputs": [
    {
     "data": {
      "text/plain": [
       "<AxesSubplot:xlabel='JobSatisfaction', ylabel='count'>"
      ]
     },
     "execution_count": 17,
     "metadata": {},
     "output_type": "execute_result"
    },
    {
     "data": {
      "image/png": "[encoded data removed]",
      "text/plain": [
       "<Figure size 432x288 with 1 Axes>"
      ]
     },
     "metadata": {
      "needs_background": "light"
     },
     "output_type": "display_data"
    }
   ],
   "source": [
    "sns.countplot(x = 'JobSatisfaction', data = df, hue = 'Attrition')"
   ]
  },
  {
   "cell_type": "code",
   "execution_count": 18,
   "id": "b83fbb5c",
   "metadata": {},
   "outputs": [
    {
     "data": {
      "text/plain": [
       "<AxesSubplot:xlabel='PercentSalaryHike', ylabel='count'>"
      ]
     },
     "execution_count": 18,
     "metadata": {},
     "output_type": "execute_result"
    },
    {
     "data": {
      "image/png": "[encoded data removed]",
      "text/plain": [
       "<Figure size 432x288 with 1 Axes>"
      ]
     },
     "metadata": {
      "needs_background": "light"
     },
     "output_type": "display_data"
    }
   ],
   "source": [
    "sns.countplot(x = 'PercentSalaryHike', data = df, hue = 'Attrition')"
   ]
  },
  {
   "cell_type": "code",
   "execution_count": 19,
   "id": "02b639a7",
   "metadata": {},
   "outputs": [
    {
     "data": {
      "text/plain": [
       "<AxesSubplot:xlabel='YearsAtCompany', ylabel='count'>"
      ]
     },
     "execution_count": 19,
     "metadata": {},
     "output_type": "execute_result"
    },
    {
     "data": {
      "image/png": "[encoded data removed]",
      "text/plain": [
       "<Figure size 432x288 with 1 Axes>"
      ]
     },
     "metadata": {
      "needs_background": "light"
     },
     "output_type": "display_data"
    }
   ],
   "source": [
    "sns.countplot(x = 'YearsAtCompany', data = df, hue = 'Attrition')"
   ]
  },
  {
   "cell_type": "code",
   "execution_count": 20,
   "id": "f3a4f71a",
   "metadata": {},
   "outputs": [
    {
     "data": {
      "text/plain": [
       "<AxesSubplot:xlabel='YearsInCurrentRole', ylabel='count'>"
      ]
     },
     "execution_count": 20,
     "metadata": {},
     "output_type": "execute_result"
    },
    {
     "data": {
      "image/png": "[encoded data removed]",
      "text/plain": [
       "<Figure size 432x288 with 1 Axes>"
      ]
     },
     "metadata": {
      "needs_background": "light"
     },
     "output_type": "display_data"
    }
   ],
   "source": [
    "sns.countplot(x = 'YearsInCurrentRole', data = df, hue = 'Attrition')"
   ]
  },
  {
   "cell_type": "code",
   "execution_count": 21,
   "id": "71dd9611",
   "metadata": {
    "scrolled": false
   },
   "outputs": [
    {
     "data": {
      "text/plain": [
       "<AxesSubplot:xlabel='YearsSinceLastPromotion', ylabel='count'>"
      ]
     },
     "execution_count": 21,
     "metadata": {},
     "output_type": "execute_result"
    },
    {
     "data": {
      "image/png": "[encoded data removed]",
      "text/plain": [
       "<Figure size 432x288 with 1 Axes>"
      ]
     },
     "metadata": {
      "needs_background": "light"
     },
     "output_type": "display_data"
    }
   ],
   "source": [
    "sns.countplot(x = 'YearsSinceLastPromotion', data = df, hue = 'Attrition')"
   ]
  },
  {
   "cell_type": "markdown",
   "id": "7618676b",
   "metadata": {},
   "source": [
    "# Scaling the columns"
   ]
  },
  {
   "cell_type": "code",
   "execution_count": 22,
   "id": "1efa449f",
   "metadata": {
    "scrolled": true
   },
   "outputs": [
    {
     "data": {
      "text/html": [
       "<div>\n",
       "<style scoped>\n",
       "    .dataframe tbody tr th:only-of-type {\n",
       "        vertical-align: middle;\n",
       "    }\n",
       "\n",
       "    .dataframe tbody tr th {\n",
       "        vertical-align: top;\n",
       "    }\n",
       "\n",
       "    .dataframe thead th {\n",
       "        text-align: right;\n",
       "    }\n",
       "</style>\n",
       "<table border=\"1\" class=\"dataframe\">\n",
       "  <thead>\n",
       "    <tr style=\"text-align: right;\">\n",
       "      <th></th>\n",
       "      <th>Age</th>\n",
       "      <th>Attrition</th>\n",
       "      <th>BusinessTravel</th>\n",
       "      <th>DailyRate</th>\n",
       "      <th>Department</th>\n",
       "      <th>DistanceFromHome</th>\n",
       "      <th>Education</th>\n",
       "      <th>EducationField</th>\n",
       "      <th>EmployeeCount</th>\n",
       "      <th>EmployeeNumber</th>\n",
       "      <th>...</th>\n",
       "      <th>RelationshipSatisfaction</th>\n",
       "      <th>StandardHours</th>\n",
       "      <th>StockOptionLevel</th>\n",
       "      <th>TotalWorkingYears</th>\n",
       "      <th>TrainingTimesLastYear</th>\n",
       "      <th>WorkLifeBalance</th>\n",
       "      <th>YearsAtCompany</th>\n",
       "      <th>YearsInCurrentRole</th>\n",
       "      <th>YearsSinceLastPromotion</th>\n",
       "      <th>YearsWithCurrManager</th>\n",
       "    </tr>\n",
       "  </thead>\n",
       "  <tbody>\n",
       "    <tr>\n",
       "      <th>0</th>\n",
       "      <td>0.547619</td>\n",
       "      <td>1.0</td>\n",
       "      <td>0.5</td>\n",
       "      <td>0.715820</td>\n",
       "      <td>0.0</td>\n",
       "      <td>0.000000</td>\n",
       "      <td>0.25</td>\n",
       "      <td>0.0</td>\n",
       "      <td>0.0</td>\n",
       "      <td>0.000000</td>\n",
       "      <td>...</td>\n",
       "      <td>0.000000</td>\n",
       "      <td>0.0</td>\n",
       "      <td>0.000000</td>\n",
       "      <td>0.200</td>\n",
       "      <td>0.0</td>\n",
       "      <td>0.000000</td>\n",
       "      <td>0.15</td>\n",
       "      <td>0.222222</td>\n",
       "      <td>0.000000</td>\n",
       "      <td>0.294118</td>\n",
       "    </tr>\n",
       "    <tr>\n",
       "      <th>1</th>\n",
       "      <td>0.738095</td>\n",
       "      <td>0.0</td>\n",
       "      <td>1.0</td>\n",
       "      <td>0.126700</td>\n",
       "      <td>0.5</td>\n",
       "      <td>0.250000</td>\n",
       "      <td>0.00</td>\n",
       "      <td>0.0</td>\n",
       "      <td>0.0</td>\n",
       "      <td>0.000484</td>\n",
       "      <td>...</td>\n",
       "      <td>1.000000</td>\n",
       "      <td>0.0</td>\n",
       "      <td>0.333333</td>\n",
       "      <td>0.250</td>\n",
       "      <td>0.5</td>\n",
       "      <td>0.666667</td>\n",
       "      <td>0.25</td>\n",
       "      <td>0.388889</td>\n",
       "      <td>0.066667</td>\n",
       "      <td>0.411765</td>\n",
       "    </tr>\n",
       "    <tr>\n",
       "      <th>2</th>\n",
       "      <td>0.452381</td>\n",
       "      <td>1.0</td>\n",
       "      <td>0.5</td>\n",
       "      <td>0.909807</td>\n",
       "      <td>0.5</td>\n",
       "      <td>0.035714</td>\n",
       "      <td>0.25</td>\n",
       "      <td>1.0</td>\n",
       "      <td>0.0</td>\n",
       "      <td>0.001451</td>\n",
       "      <td>...</td>\n",
       "      <td>0.333333</td>\n",
       "      <td>0.0</td>\n",
       "      <td>0.000000</td>\n",
       "      <td>0.175</td>\n",
       "      <td>0.5</td>\n",
       "      <td>0.666667</td>\n",
       "      <td>0.00</td>\n",
       "      <td>0.000000</td>\n",
       "      <td>0.000000</td>\n",
       "      <td>0.000000</td>\n",
       "    </tr>\n",
       "    <tr>\n",
       "      <th>3</th>\n",
       "      <td>0.357143</td>\n",
       "      <td>0.0</td>\n",
       "      <td>1.0</td>\n",
       "      <td>0.923407</td>\n",
       "      <td>0.5</td>\n",
       "      <td>0.071429</td>\n",
       "      <td>0.75</td>\n",
       "      <td>0.0</td>\n",
       "      <td>0.0</td>\n",
       "      <td>0.001935</td>\n",
       "      <td>...</td>\n",
       "      <td>0.666667</td>\n",
       "      <td>0.0</td>\n",
       "      <td>0.000000</td>\n",
       "      <td>0.200</td>\n",
       "      <td>0.5</td>\n",
       "      <td>0.666667</td>\n",
       "      <td>0.20</td>\n",
       "      <td>0.388889</td>\n",
       "      <td>0.200000</td>\n",
       "      <td>0.000000</td>\n",
       "    </tr>\n",
       "    <tr>\n",
       "      <th>4</th>\n",
       "      <td>0.214286</td>\n",
       "      <td>0.0</td>\n",
       "      <td>0.5</td>\n",
       "      <td>0.350036</td>\n",
       "      <td>0.5</td>\n",
       "      <td>0.035714</td>\n",
       "      <td>0.00</td>\n",
       "      <td>0.2</td>\n",
       "      <td>0.0</td>\n",
       "      <td>0.002903</td>\n",
       "      <td>...</td>\n",
       "      <td>1.000000</td>\n",
       "      <td>0.0</td>\n",
       "      <td>0.333333</td>\n",
       "      <td>0.150</td>\n",
       "      <td>0.5</td>\n",
       "      <td>0.666667</td>\n",
       "      <td>0.05</td>\n",
       "      <td>0.111111</td>\n",
       "      <td>0.133333</td>\n",
       "      <td>0.117647</td>\n",
       "    </tr>\n",
       "  </tbody>\n",
       "</table>\n",
       "<p>5 rows × 35 columns</p>\n",
       "</div>"
      ],
      "text/plain": [
       "        Age  Attrition  BusinessTravel  DailyRate  Department  \\\n",
       "0  0.547619        1.0             0.5   0.715820         0.0   \n",
       "1  0.738095        0.0             1.0   0.126700         0.5   \n",
       "2  0.452381        1.0             0.5   0.909807         0.5   \n",
       "3  0.357143        0.0             1.0   0.923407         0.5   \n",
       "4  0.214286        0.0             0.5   0.350036         0.5   \n",
       "\n",
       "   DistanceFromHome  Education  EducationField  EmployeeCount  EmployeeNumber  \\\n",
       "0          0.000000       0.25             0.0            0.0        0.000000   \n",
       "1          0.250000       0.00             0.0            0.0        0.000484   \n",
       "2          0.035714       0.25             1.0            0.0        0.001451   \n",
       "3          0.071429       0.75             0.0            0.0        0.001935   \n",
       "4          0.035714       0.00             0.2            0.0        0.002903   \n",
       "\n",
       "   ...  RelationshipSatisfaction  StandardHours  StockOptionLevel  \\\n",
       "0  ...                  0.000000            0.0          0.000000   \n",
       "1  ...                  1.000000            0.0          0.333333   \n",
       "2  ...                  0.333333            0.0          0.000000   \n",
       "3  ...                  0.666667            0.0          0.000000   \n",
       "4  ...                  1.000000            0.0          0.333333   \n",
       "\n",
       "   TotalWorkingYears  TrainingTimesLastYear  WorkLifeBalance  YearsAtCompany  \\\n",
       "0              0.200                    0.0         0.000000            0.15   \n",
       "1              0.250                    0.5         0.666667            0.25   \n",
       "2              0.175                    0.5         0.666667            0.00   \n",
       "3              0.200                    0.5         0.666667            0.20   \n",
       "4              0.150                    0.5         0.666667            0.05   \n",
       "\n",
       "   YearsInCurrentRole  YearsSinceLastPromotion  YearsWithCurrManager  \n",
       "0            0.222222                 0.000000              0.294118  \n",
       "1            0.388889                 0.066667              0.411765  \n",
       "2            0.000000                 0.000000              0.000000  \n",
       "3            0.388889                 0.200000              0.000000  \n",
       "4            0.111111                 0.133333              0.117647  \n",
       "\n",
       "[5 rows x 35 columns]"
      ]
     },
     "execution_count": 22,
     "metadata": {},
     "output_type": "execute_result"
    }
   ],
   "source": [
    "from sklearn.preprocessing import MinMaxScaler\n",
    "scale_vars = ['Age', 'Attrition', 'BusinessTravel', 'DailyRate', 'Department', 'DistanceFromHome', 'Education', 'EducationField',\n",
    "              'EmployeeCount', 'EmployeeNumber', 'EnvironmentSatisfaction', 'Gender', 'HourlyRate', 'JobInvolvement', 'JobLevel',\n",
    "              'JobRole', 'JobSatisfaction', 'MaritalStatus', 'MonthlyIncome', 'MonthlyRate', 'NumCompaniesWorked', 'Over18',\n",
    "              'OverTime', 'PercentSalaryHike', 'PerformanceRating', 'RelationshipSatisfaction', 'StandardHours', 'StockOptionLevel',\n",
    "              'TotalWorkingYears', 'TrainingTimesLastYear', 'WorkLifeBalance', 'YearsAtCompany', 'YearsInCurrentRole',\n",
    "              'YearsSinceLastPromotion', 'YearsWithCurrManager']\n",
    "scaler = MinMaxScaler()\n",
    "df[scale_vars] = scaler.fit_transform(df[scale_vars])\n",
    "df.head()"
   ]
  },
  {
   "cell_type": "code",
   "execution_count": 23,
   "id": "8d5325a7",
   "metadata": {},
   "outputs": [
    {
     "name": "stdout",
     "output_type": "stream",
     "text": [
      "(1470, 35)\n"
     ]
    }
   ],
   "source": [
    "df.dropna(inplace= True)\n",
    "print(df.shape)"
   ]
  },
  {
   "cell_type": "markdown",
   "id": "737a904f",
   "metadata": {},
   "source": [
    "# Feature Selection using Variance Threshold"
   ]
  },
  {
   "cell_type": "code",
   "execution_count": 24,
   "id": "8c8180f9",
   "metadata": {},
   "outputs": [
    {
     "data": {
      "text/plain": [
       "VarianceThreshold()"
      ]
     },
     "execution_count": 24,
     "metadata": {},
     "output_type": "execute_result"
    }
   ],
   "source": [
    "from sklearn.feature_selection import VarianceThreshold\n",
    "var_thresh = VarianceThreshold()\n",
    "var_thresh.fit(df)"
   ]
  },
  {
   "cell_type": "code",
   "execution_count": 25,
   "id": "d2c1609d",
   "metadata": {},
   "outputs": [
    {
     "data": {
      "text/plain": [
       "array([ True,  True,  True,  True,  True,  True,  True,  True, False,\n",
       "        True,  True,  True,  True,  True,  True,  True,  True,  True,\n",
       "        True,  True,  True, False,  True,  True,  True,  True, False,\n",
       "        True,  True,  True,  True,  True,  True,  True,  True])"
      ]
     },
     "execution_count": 25,
     "metadata": {},
     "output_type": "execute_result"
    }
   ],
   "source": [
    "var_thresh.get_support()"
   ]
  },
  {
   "cell_type": "code",
   "execution_count": 26,
   "id": "eba6ac6d",
   "metadata": {},
   "outputs": [
    {
     "name": "stdout",
     "output_type": "stream",
     "text": [
      "All features:  Index(['Age', 'Attrition', 'BusinessTravel', 'DailyRate', 'Department',\n",
      "       'DistanceFromHome', 'Education', 'EducationField', 'EmployeeCount',\n",
      "       'EmployeeNumber', 'EnvironmentSatisfaction', 'Gender', 'HourlyRate',\n",
      "       'JobInvolvement', 'JobLevel', 'JobRole', 'JobSatisfaction',\n",
      "       'MaritalStatus', 'MonthlyIncome', 'MonthlyRate', 'NumCompaniesWorked',\n",
      "       'Over18', 'OverTime', 'PercentSalaryHike', 'PerformanceRating',\n",
      "       'RelationshipSatisfaction', 'StandardHours', 'StockOptionLevel',\n",
      "       'TotalWorkingYears', 'TrainingTimesLastYear', 'WorkLifeBalance',\n",
      "       'YearsAtCompany', 'YearsInCurrentRole', 'YearsSinceLastPromotion',\n",
      "       'YearsWithCurrManager'],\n",
      "      dtype='object')\n",
      "\n",
      "Features selected:  Index(['Age', 'Attrition', 'BusinessTravel', 'DailyRate', 'Department',\n",
      "       'DistanceFromHome', 'Education', 'EducationField', 'EmployeeNumber',\n",
      "       'EnvironmentSatisfaction', 'Gender', 'HourlyRate', 'JobInvolvement',\n",
      "       'JobLevel', 'JobRole', 'JobSatisfaction', 'MaritalStatus',\n",
      "       'MonthlyIncome', 'MonthlyRate', 'NumCompaniesWorked', 'OverTime',\n",
      "       'PercentSalaryHike', 'PerformanceRating', 'RelationshipSatisfaction',\n",
      "       'StockOptionLevel', 'TotalWorkingYears', 'TrainingTimesLastYear',\n",
      "       'WorkLifeBalance', 'YearsAtCompany', 'YearsInCurrentRole',\n",
      "       'YearsSinceLastPromotion', 'YearsWithCurrManager'],\n",
      "      dtype='object')\n"
     ]
    }
   ],
   "source": [
    "print('All features: ', df.columns)\n",
    "print('')\n",
    "print('Features selected: ',df.columns[var_thresh.get_support()])"
   ]
  },
  {
   "cell_type": "markdown",
   "id": "672402ed",
   "metadata": {
    "scrolled": true
   },
   "source": [
    "# Splitting the Raw Data - Hold-out validation"
   ]
  },
  {
   "cell_type": "code",
   "execution_count": 27,
   "id": "9e3d2858",
   "metadata": {
    "scrolled": true
   },
   "outputs": [],
   "source": [
    "X = df.drop(columns = ['Attrition','EmployeeCount','Over18', 'StandardHours']).values\n",
    "y = df['Attrition'].values \n",
    "X_train, X_test, y_train, y_test = train_test_split(X, y, train_size = 0.85, test_size=0.15, random_state=1)"
   ]
  },
  {
   "cell_type": "markdown",
   "id": "af04b0b6",
   "metadata": {},
   "source": [
    "# Checking Correlation with Pearson's \n"
   ]
  },
  {
   "cell_type": "code",
   "execution_count": 28,
   "id": "98ca0985",
   "metadata": {},
   "outputs": [
    {
     "data": {
      "text/html": [
       "<div>\n",
       "<style scoped>\n",
       "    .dataframe tbody tr th:only-of-type {\n",
       "        vertical-align: middle;\n",
       "    }\n",
       "\n",
       "    .dataframe tbody tr th {\n",
       "        vertical-align: top;\n",
       "    }\n",
       "\n",
       "    .dataframe thead th {\n",
       "        text-align: right;\n",
       "    }\n",
       "</style>\n",
       "<table border=\"1\" class=\"dataframe\">\n",
       "  <thead>\n",
       "    <tr style=\"text-align: right;\">\n",
       "      <th></th>\n",
       "      <th>0</th>\n",
       "      <th>1</th>\n",
       "      <th>2</th>\n",
       "      <th>3</th>\n",
       "      <th>4</th>\n",
       "      <th>5</th>\n",
       "      <th>6</th>\n",
       "      <th>7</th>\n",
       "      <th>8</th>\n",
       "      <th>9</th>\n",
       "      <th>...</th>\n",
       "      <th>21</th>\n",
       "      <th>22</th>\n",
       "      <th>23</th>\n",
       "      <th>24</th>\n",
       "      <th>25</th>\n",
       "      <th>26</th>\n",
       "      <th>27</th>\n",
       "      <th>28</th>\n",
       "      <th>29</th>\n",
       "      <th>30</th>\n",
       "    </tr>\n",
       "  </thead>\n",
       "  <tbody>\n",
       "    <tr>\n",
       "      <th>0</th>\n",
       "      <td>1.000000</td>\n",
       "      <td>-0.030470</td>\n",
       "      <td>-0.003840</td>\n",
       "      <td>0.027361</td>\n",
       "      <td>0.001944</td>\n",
       "      <td>0.196619</td>\n",
       "      <td>-0.041529</td>\n",
       "      <td>-0.011799</td>\n",
       "      <td>-0.010791</td>\n",
       "      <td>0.034288</td>\n",
       "      <td>...</td>\n",
       "      <td>0.019908</td>\n",
       "      <td>0.047915</td>\n",
       "      <td>0.023110</td>\n",
       "      <td>0.672128</td>\n",
       "      <td>-0.015968</td>\n",
       "      <td>-0.012029</td>\n",
       "      <td>0.295086</td>\n",
       "      <td>0.196997</td>\n",
       "      <td>0.210213</td>\n",
       "      <td>0.179257</td>\n",
       "    </tr>\n",
       "    <tr>\n",
       "      <th>1</th>\n",
       "      <td>-0.030470</td>\n",
       "      <td>1.000000</td>\n",
       "      <td>-0.025280</td>\n",
       "      <td>-0.004371</td>\n",
       "      <td>-0.005950</td>\n",
       "      <td>-0.040069</td>\n",
       "      <td>-0.023375</td>\n",
       "      <td>-0.013109</td>\n",
       "      <td>-0.012340</td>\n",
       "      <td>0.025369</td>\n",
       "      <td>...</td>\n",
       "      <td>-0.001055</td>\n",
       "      <td>0.016124</td>\n",
       "      <td>-0.025510</td>\n",
       "      <td>-0.006531</td>\n",
       "      <td>0.008151</td>\n",
       "      <td>0.002771</td>\n",
       "      <td>-0.001248</td>\n",
       "      <td>-0.019117</td>\n",
       "      <td>-0.009513</td>\n",
       "      <td>-0.009472</td>\n",
       "    </tr>\n",
       "    <tr>\n",
       "      <th>2</th>\n",
       "      <td>-0.003840</td>\n",
       "      <td>-0.025280</td>\n",
       "      <td>1.000000</td>\n",
       "      <td>-0.011968</td>\n",
       "      <td>-0.002533</td>\n",
       "      <td>-0.006820</td>\n",
       "      <td>-0.004654</td>\n",
       "      <td>-0.058044</td>\n",
       "      <td>0.032875</td>\n",
       "      <td>0.007730</td>\n",
       "      <td>...</td>\n",
       "      <td>0.001396</td>\n",
       "      <td>0.014269</td>\n",
       "      <td>0.035250</td>\n",
       "      <td>0.002079</td>\n",
       "      <td>0.004938</td>\n",
       "      <td>-0.028898</td>\n",
       "      <td>-0.039102</td>\n",
       "      <td>0.008967</td>\n",
       "      <td>-0.044810</td>\n",
       "      <td>-0.045412</td>\n",
       "    </tr>\n",
       "    <tr>\n",
       "      <th>3</th>\n",
       "      <td>0.027361</td>\n",
       "      <td>-0.004371</td>\n",
       "      <td>-0.011968</td>\n",
       "      <td>1.000000</td>\n",
       "      <td>-0.010755</td>\n",
       "      <td>-0.006100</td>\n",
       "      <td>-0.004210</td>\n",
       "      <td>0.014913</td>\n",
       "      <td>0.033265</td>\n",
       "      <td>-0.035989</td>\n",
       "      <td>...</td>\n",
       "      <td>0.025037</td>\n",
       "      <td>0.028470</td>\n",
       "      <td>0.016213</td>\n",
       "      <td>0.021393</td>\n",
       "      <td>-0.015798</td>\n",
       "      <td>-0.021619</td>\n",
       "      <td>-0.021904</td>\n",
       "      <td>-0.048505</td>\n",
       "      <td>-0.041703</td>\n",
       "      <td>-0.029547</td>\n",
       "    </tr>\n",
       "    <tr>\n",
       "      <th>4</th>\n",
       "      <td>0.001944</td>\n",
       "      <td>-0.005950</td>\n",
       "      <td>-0.002533</td>\n",
       "      <td>-0.010755</td>\n",
       "      <td>1.000000</td>\n",
       "      <td>0.025836</td>\n",
       "      <td>0.001293</td>\n",
       "      <td>0.026102</td>\n",
       "      <td>-0.010164</td>\n",
       "      <td>0.011317</td>\n",
       "      <td>...</td>\n",
       "      <td>0.036981</td>\n",
       "      <td>0.003600</td>\n",
       "      <td>0.042324</td>\n",
       "      <td>0.006990</td>\n",
       "      <td>-0.050869</td>\n",
       "      <td>-0.029392</td>\n",
       "      <td>0.006450</td>\n",
       "      <td>0.014848</td>\n",
       "      <td>0.014447</td>\n",
       "      <td>0.013495</td>\n",
       "    </tr>\n",
       "    <tr>\n",
       "      <th>5</th>\n",
       "      <td>0.196619</td>\n",
       "      <td>-0.040069</td>\n",
       "      <td>-0.006820</td>\n",
       "      <td>-0.006100</td>\n",
       "      <td>0.025836</td>\n",
       "      <td>1.000000</td>\n",
       "      <td>0.030514</td>\n",
       "      <td>0.029102</td>\n",
       "      <td>-0.032906</td>\n",
       "      <td>0.013953</td>\n",
       "      <td>...</td>\n",
       "      <td>-0.024742</td>\n",
       "      <td>-0.007242</td>\n",
       "      <td>0.002660</td>\n",
       "      <td>0.149607</td>\n",
       "      <td>-0.021933</td>\n",
       "      <td>0.035519</td>\n",
       "      <td>0.073674</td>\n",
       "      <td>0.062083</td>\n",
       "      <td>0.061974</td>\n",
       "      <td>0.068144</td>\n",
       "    </tr>\n",
       "    <tr>\n",
       "      <th>6</th>\n",
       "      <td>-0.041529</td>\n",
       "      <td>-0.023375</td>\n",
       "      <td>-0.004654</td>\n",
       "      <td>-0.004210</td>\n",
       "      <td>0.001293</td>\n",
       "      <td>0.030514</td>\n",
       "      <td>1.000000</td>\n",
       "      <td>0.015999</td>\n",
       "      <td>0.055167</td>\n",
       "      <td>-0.018449</td>\n",
       "      <td>...</td>\n",
       "      <td>-0.006089</td>\n",
       "      <td>-0.006477</td>\n",
       "      <td>-0.018078</td>\n",
       "      <td>-0.042673</td>\n",
       "      <td>-0.001876</td>\n",
       "      <td>0.064159</td>\n",
       "      <td>-0.036610</td>\n",
       "      <td>-0.020317</td>\n",
       "      <td>-0.028159</td>\n",
       "      <td>-0.021025</td>\n",
       "    </tr>\n",
       "    <tr>\n",
       "      <th>7</th>\n",
       "      <td>-0.011799</td>\n",
       "      <td>-0.013109</td>\n",
       "      <td>-0.058044</td>\n",
       "      <td>0.014913</td>\n",
       "      <td>0.026102</td>\n",
       "      <td>0.029102</td>\n",
       "      <td>0.015999</td>\n",
       "      <td>1.000000</td>\n",
       "      <td>0.028049</td>\n",
       "      <td>-0.030969</td>\n",
       "      <td>...</td>\n",
       "      <td>-0.015392</td>\n",
       "      <td>-0.060047</td>\n",
       "      <td>0.068339</td>\n",
       "      <td>-0.011495</td>\n",
       "      <td>0.011907</td>\n",
       "      <td>0.002144</td>\n",
       "      <td>0.003308</td>\n",
       "      <td>0.003727</td>\n",
       "      <td>-0.007662</td>\n",
       "      <td>-0.000354</td>\n",
       "    </tr>\n",
       "    <tr>\n",
       "      <th>8</th>\n",
       "      <td>-0.010791</td>\n",
       "      <td>-0.012340</td>\n",
       "      <td>0.032875</td>\n",
       "      <td>0.033265</td>\n",
       "      <td>-0.010164</td>\n",
       "      <td>-0.032906</td>\n",
       "      <td>0.055167</td>\n",
       "      <td>0.028049</td>\n",
       "      <td>1.000000</td>\n",
       "      <td>-0.008581</td>\n",
       "      <td>...</td>\n",
       "      <td>-0.026878</td>\n",
       "      <td>0.011075</td>\n",
       "      <td>0.014381</td>\n",
       "      <td>-0.015143</td>\n",
       "      <td>-0.011832</td>\n",
       "      <td>0.027306</td>\n",
       "      <td>-0.004000</td>\n",
       "      <td>0.009033</td>\n",
       "      <td>0.020559</td>\n",
       "      <td>0.005737</td>\n",
       "    </tr>\n",
       "    <tr>\n",
       "      <th>9</th>\n",
       "      <td>0.034288</td>\n",
       "      <td>0.025369</td>\n",
       "      <td>0.007730</td>\n",
       "      <td>-0.035989</td>\n",
       "      <td>0.011317</td>\n",
       "      <td>0.013953</td>\n",
       "      <td>-0.018449</td>\n",
       "      <td>-0.030969</td>\n",
       "      <td>-0.008581</td>\n",
       "      <td>1.000000</td>\n",
       "      <td>...</td>\n",
       "      <td>0.006921</td>\n",
       "      <td>-0.026707</td>\n",
       "      <td>-0.016919</td>\n",
       "      <td>0.048375</td>\n",
       "      <td>0.026595</td>\n",
       "      <td>0.005956</td>\n",
       "      <td>0.048993</td>\n",
       "      <td>0.058862</td>\n",
       "      <td>0.034844</td>\n",
       "      <td>0.058254</td>\n",
       "    </tr>\n",
       "    <tr>\n",
       "      <th>10</th>\n",
       "      <td>0.021322</td>\n",
       "      <td>-0.009454</td>\n",
       "      <td>0.024752</td>\n",
       "      <td>0.007672</td>\n",
       "      <td>0.035865</td>\n",
       "      <td>0.015424</td>\n",
       "      <td>-0.050227</td>\n",
       "      <td>0.042421</td>\n",
       "      <td>-0.061249</td>\n",
       "      <td>0.019121</td>\n",
       "      <td>...</td>\n",
       "      <td>0.007883</td>\n",
       "      <td>0.007090</td>\n",
       "      <td>0.056536</td>\n",
       "      <td>-0.019209</td>\n",
       "      <td>0.025921</td>\n",
       "      <td>0.008836</td>\n",
       "      <td>-0.032695</td>\n",
       "      <td>-0.029050</td>\n",
       "      <td>-0.039865</td>\n",
       "      <td>-0.040776</td>\n",
       "    </tr>\n",
       "    <tr>\n",
       "      <th>11</th>\n",
       "      <td>0.018254</td>\n",
       "      <td>0.028194</td>\n",
       "      <td>0.045479</td>\n",
       "      <td>0.039398</td>\n",
       "      <td>0.004949</td>\n",
       "      <td>0.036956</td>\n",
       "      <td>-0.015736</td>\n",
       "      <td>-0.010767</td>\n",
       "      <td>-0.005359</td>\n",
       "      <td>-0.018233</td>\n",
       "      <td>...</td>\n",
       "      <td>-0.035469</td>\n",
       "      <td>0.024915</td>\n",
       "      <td>0.011413</td>\n",
       "      <td>-0.015272</td>\n",
       "      <td>-0.018438</td>\n",
       "      <td>-0.007592</td>\n",
       "      <td>-0.017991</td>\n",
       "      <td>0.004336</td>\n",
       "      <td>-0.030001</td>\n",
       "      <td>0.027505</td>\n",
       "    </tr>\n",
       "    <tr>\n",
       "      <th>12</th>\n",
       "      <td>0.506596</td>\n",
       "      <td>-0.020364</td>\n",
       "      <td>-0.003972</td>\n",
       "      <td>-0.091708</td>\n",
       "      <td>0.000635</td>\n",
       "      <td>0.116542</td>\n",
       "      <td>-0.027285</td>\n",
       "      <td>-0.015758</td>\n",
       "      <td>-0.019988</td>\n",
       "      <td>0.050488</td>\n",
       "      <td>...</td>\n",
       "      <td>-0.022531</td>\n",
       "      <td>0.018443</td>\n",
       "      <td>0.007697</td>\n",
       "      <td>0.778825</td>\n",
       "      <td>-0.033987</td>\n",
       "      <td>0.027981</td>\n",
       "      <td>0.522418</td>\n",
       "      <td>0.369781</td>\n",
       "      <td>0.338095</td>\n",
       "      <td>0.361289</td>\n",
       "    </tr>\n",
       "    <tr>\n",
       "      <th>13</th>\n",
       "      <td>0.155185</td>\n",
       "      <td>0.007744</td>\n",
       "      <td>0.004665</td>\n",
       "      <td>0.424700</td>\n",
       "      <td>-0.051345</td>\n",
       "      <td>-0.025040</td>\n",
       "      <td>0.025673</td>\n",
       "      <td>0.011591</td>\n",
       "      <td>-0.025190</td>\n",
       "      <td>0.008921</td>\n",
       "      <td>...</td>\n",
       "      <td>0.018679</td>\n",
       "      <td>0.014930</td>\n",
       "      <td>-0.030288</td>\n",
       "      <td>0.274949</td>\n",
       "      <td>0.007464</td>\n",
       "      <td>0.037302</td>\n",
       "      <td>0.123057</td>\n",
       "      <td>0.047253</td>\n",
       "      <td>0.068458</td>\n",
       "      <td>0.037895</td>\n",
       "    </tr>\n",
       "    <tr>\n",
       "      <th>14</th>\n",
       "      <td>-0.010726</td>\n",
       "      <td>0.017516</td>\n",
       "      <td>0.039812</td>\n",
       "      <td>-0.006624</td>\n",
       "      <td>0.008797</td>\n",
       "      <td>-0.021484</td>\n",
       "      <td>-0.032149</td>\n",
       "      <td>-0.039745</td>\n",
       "      <td>0.008995</td>\n",
       "      <td>-0.033931</td>\n",
       "      <td>...</td>\n",
       "      <td>0.019459</td>\n",
       "      <td>-0.016860</td>\n",
       "      <td>0.000038</td>\n",
       "      <td>-0.013312</td>\n",
       "      <td>-0.041110</td>\n",
       "      <td>-0.012634</td>\n",
       "      <td>-0.011207</td>\n",
       "      <td>-0.020733</td>\n",
       "      <td>-0.029784</td>\n",
       "      <td>-0.030668</td>\n",
       "    </tr>\n",
       "    <tr>\n",
       "      <th>15</th>\n",
       "      <td>0.026329</td>\n",
       "      <td>-0.000548</td>\n",
       "      <td>-0.008105</td>\n",
       "      <td>-0.026163</td>\n",
       "      <td>0.054039</td>\n",
       "      <td>0.012274</td>\n",
       "      <td>0.003577</td>\n",
       "      <td>0.055714</td>\n",
       "      <td>-0.022340</td>\n",
       "      <td>0.037015</td>\n",
       "      <td>...</td>\n",
       "      <td>0.021009</td>\n",
       "      <td>-0.044929</td>\n",
       "      <td>-0.093505</td>\n",
       "      <td>-0.001052</td>\n",
       "      <td>-0.007303</td>\n",
       "      <td>-0.001410</td>\n",
       "      <td>0.006327</td>\n",
       "      <td>0.021025</td>\n",
       "      <td>0.033041</td>\n",
       "      <td>0.007145</td>\n",
       "    </tr>\n",
       "    <tr>\n",
       "      <th>16</th>\n",
       "      <td>0.489970</td>\n",
       "      <td>-0.019317</td>\n",
       "      <td>0.002962</td>\n",
       "      <td>-0.045208</td>\n",
       "      <td>-0.023753</td>\n",
       "      <td>0.111700</td>\n",
       "      <td>-0.034405</td>\n",
       "      <td>-0.012265</td>\n",
       "      <td>-0.032466</td>\n",
       "      <td>0.044215</td>\n",
       "      <td>...</td>\n",
       "      <td>-0.021728</td>\n",
       "      <td>0.021003</td>\n",
       "      <td>-0.001262</td>\n",
       "      <td>0.768347</td>\n",
       "      <td>-0.034251</td>\n",
       "      <td>0.018099</td>\n",
       "      <td>0.500626</td>\n",
       "      <td>0.344707</td>\n",
       "      <td>0.329597</td>\n",
       "      <td>0.329074</td>\n",
       "    </tr>\n",
       "    <tr>\n",
       "      <th>17</th>\n",
       "      <td>0.026186</td>\n",
       "      <td>-0.002088</td>\n",
       "      <td>-0.040446</td>\n",
       "      <td>-0.036161</td>\n",
       "      <td>0.022361</td>\n",
       "      <td>-0.026649</td>\n",
       "      <td>-0.029257</td>\n",
       "      <td>0.005172</td>\n",
       "      <td>0.039928</td>\n",
       "      <td>0.042033</td>\n",
       "      <td>...</td>\n",
       "      <td>-0.004021</td>\n",
       "      <td>-0.002744</td>\n",
       "      <td>-0.024760</td>\n",
       "      <td>0.027701</td>\n",
       "      <td>0.023804</td>\n",
       "      <td>0.005115</td>\n",
       "      <td>-0.027450</td>\n",
       "      <td>-0.017426</td>\n",
       "      <td>-0.005643</td>\n",
       "      <td>-0.038808</td>\n",
       "    </tr>\n",
       "    <tr>\n",
       "      <th>18</th>\n",
       "      <td>0.311099</td>\n",
       "      <td>-0.022865</td>\n",
       "      <td>0.029517</td>\n",
       "      <td>0.045088</td>\n",
       "      <td>-0.026664</td>\n",
       "      <td>0.126090</td>\n",
       "      <td>0.005690</td>\n",
       "      <td>-0.009567</td>\n",
       "      <td>0.012522</td>\n",
       "      <td>0.034494</td>\n",
       "      <td>...</td>\n",
       "      <td>-0.017571</td>\n",
       "      <td>0.047067</td>\n",
       "      <td>0.017859</td>\n",
       "      <td>0.243934</td>\n",
       "      <td>-0.075267</td>\n",
       "      <td>-0.017988</td>\n",
       "      <td>-0.114647</td>\n",
       "      <td>-0.088707</td>\n",
       "      <td>-0.036045</td>\n",
       "      <td>-0.107159</td>\n",
       "    </tr>\n",
       "    <tr>\n",
       "      <th>19</th>\n",
       "      <td>0.020620</td>\n",
       "      <td>0.057162</td>\n",
       "      <td>0.031955</td>\n",
       "      <td>0.004061</td>\n",
       "      <td>0.014215</td>\n",
       "      <td>-0.029035</td>\n",
       "      <td>0.017559</td>\n",
       "      <td>-0.015632</td>\n",
       "      <td>0.056428</td>\n",
       "      <td>0.044633</td>\n",
       "      <td>...</td>\n",
       "      <td>-0.008026</td>\n",
       "      <td>0.040305</td>\n",
       "      <td>-0.002725</td>\n",
       "      <td>0.011653</td>\n",
       "      <td>-0.066781</td>\n",
       "      <td>-0.054290</td>\n",
       "      <td>-0.029792</td>\n",
       "      <td>-0.043747</td>\n",
       "      <td>-0.018304</td>\n",
       "      <td>-0.044038</td>\n",
       "    </tr>\n",
       "    <tr>\n",
       "      <th>20</th>\n",
       "      <td>0.014436</td>\n",
       "      <td>-0.015914</td>\n",
       "      <td>0.015426</td>\n",
       "      <td>0.001267</td>\n",
       "      <td>0.043363</td>\n",
       "      <td>-0.004975</td>\n",
       "      <td>-0.013432</td>\n",
       "      <td>-0.017797</td>\n",
       "      <td>-0.025619</td>\n",
       "      <td>-0.003401</td>\n",
       "      <td>...</td>\n",
       "      <td>0.764958</td>\n",
       "      <td>-0.039989</td>\n",
       "      <td>0.018314</td>\n",
       "      <td>-0.015092</td>\n",
       "      <td>0.007394</td>\n",
       "      <td>0.006079</td>\n",
       "      <td>-0.021292</td>\n",
       "      <td>0.002811</td>\n",
       "      <td>-0.008911</td>\n",
       "      <td>-0.009257</td>\n",
       "    </tr>\n",
       "    <tr>\n",
       "      <th>21</th>\n",
       "      <td>0.019908</td>\n",
       "      <td>-0.001055</td>\n",
       "      <td>0.001396</td>\n",
       "      <td>0.025037</td>\n",
       "      <td>0.036981</td>\n",
       "      <td>-0.024742</td>\n",
       "      <td>-0.006089</td>\n",
       "      <td>-0.015392</td>\n",
       "      <td>-0.026878</td>\n",
       "      <td>0.006921</td>\n",
       "      <td>...</td>\n",
       "      <td>1.000000</td>\n",
       "      <td>-0.028515</td>\n",
       "      <td>0.026806</td>\n",
       "      <td>0.015806</td>\n",
       "      <td>-0.002356</td>\n",
       "      <td>-0.004505</td>\n",
       "      <td>0.024815</td>\n",
       "      <td>0.043283</td>\n",
       "      <td>0.037317</td>\n",
       "      <td>0.030967</td>\n",
       "    </tr>\n",
       "    <tr>\n",
       "      <th>22</th>\n",
       "      <td>0.047915</td>\n",
       "      <td>0.016124</td>\n",
       "      <td>0.014269</td>\n",
       "      <td>0.028470</td>\n",
       "      <td>0.003600</td>\n",
       "      <td>-0.007242</td>\n",
       "      <td>-0.006477</td>\n",
       "      <td>-0.060047</td>\n",
       "      <td>0.011075</td>\n",
       "      <td>-0.026707</td>\n",
       "      <td>...</td>\n",
       "      <td>-0.028515</td>\n",
       "      <td>1.000000</td>\n",
       "      <td>-0.067221</td>\n",
       "      <td>0.016569</td>\n",
       "      <td>0.007607</td>\n",
       "      <td>0.019556</td>\n",
       "      <td>0.024174</td>\n",
       "      <td>-0.016491</td>\n",
       "      <td>0.025706</td>\n",
       "      <td>0.007434</td>\n",
       "    </tr>\n",
       "    <tr>\n",
       "      <th>23</th>\n",
       "      <td>0.023110</td>\n",
       "      <td>-0.025510</td>\n",
       "      <td>0.035250</td>\n",
       "      <td>0.016213</td>\n",
       "      <td>0.042324</td>\n",
       "      <td>0.002660</td>\n",
       "      <td>-0.018078</td>\n",
       "      <td>0.068339</td>\n",
       "      <td>0.014381</td>\n",
       "      <td>-0.016919</td>\n",
       "      <td>...</td>\n",
       "      <td>0.026806</td>\n",
       "      <td>-0.067221</td>\n",
       "      <td>1.000000</td>\n",
       "      <td>-0.008333</td>\n",
       "      <td>0.001854</td>\n",
       "      <td>-0.003418</td>\n",
       "      <td>0.008306</td>\n",
       "      <td>0.046176</td>\n",
       "      <td>0.003784</td>\n",
       "      <td>0.020002</td>\n",
       "    </tr>\n",
       "    <tr>\n",
       "      <th>24</th>\n",
       "      <td>0.672128</td>\n",
       "      <td>-0.006531</td>\n",
       "      <td>0.002079</td>\n",
       "      <td>0.021393</td>\n",
       "      <td>0.006990</td>\n",
       "      <td>0.149607</td>\n",
       "      <td>-0.042673</td>\n",
       "      <td>-0.011495</td>\n",
       "      <td>-0.015143</td>\n",
       "      <td>0.048375</td>\n",
       "      <td>...</td>\n",
       "      <td>0.015806</td>\n",
       "      <td>0.016569</td>\n",
       "      <td>-0.008333</td>\n",
       "      <td>1.000000</td>\n",
       "      <td>-0.038781</td>\n",
       "      <td>-0.004613</td>\n",
       "      <td>0.617064</td>\n",
       "      <td>0.447394</td>\n",
       "      <td>0.396944</td>\n",
       "      <td>0.445214</td>\n",
       "    </tr>\n",
       "    <tr>\n",
       "      <th>25</th>\n",
       "      <td>-0.015968</td>\n",
       "      <td>0.008151</td>\n",
       "      <td>0.004938</td>\n",
       "      <td>-0.015798</td>\n",
       "      <td>-0.050869</td>\n",
       "      <td>-0.021933</td>\n",
       "      <td>-0.001876</td>\n",
       "      <td>0.011907</td>\n",
       "      <td>-0.011832</td>\n",
       "      <td>0.026595</td>\n",
       "      <td>...</td>\n",
       "      <td>-0.002356</td>\n",
       "      <td>0.007607</td>\n",
       "      <td>0.001854</td>\n",
       "      <td>-0.038781</td>\n",
       "      <td>1.000000</td>\n",
       "      <td>0.032918</td>\n",
       "      <td>-0.010914</td>\n",
       "      <td>-0.017295</td>\n",
       "      <td>-0.015942</td>\n",
       "      <td>-0.018423</td>\n",
       "    </tr>\n",
       "    <tr>\n",
       "      <th>26</th>\n",
       "      <td>-0.012029</td>\n",
       "      <td>0.002771</td>\n",
       "      <td>-0.028898</td>\n",
       "      <td>-0.021619</td>\n",
       "      <td>-0.029392</td>\n",
       "      <td>0.035519</td>\n",
       "      <td>0.064159</td>\n",
       "      <td>0.002144</td>\n",
       "      <td>0.027306</td>\n",
       "      <td>0.005956</td>\n",
       "      <td>...</td>\n",
       "      <td>-0.004505</td>\n",
       "      <td>0.019556</td>\n",
       "      <td>-0.003418</td>\n",
       "      <td>-0.004613</td>\n",
       "      <td>0.032918</td>\n",
       "      <td>1.000000</td>\n",
       "      <td>0.010422</td>\n",
       "      <td>0.055943</td>\n",
       "      <td>-0.001233</td>\n",
       "      <td>0.003874</td>\n",
       "    </tr>\n",
       "    <tr>\n",
       "      <th>27</th>\n",
       "      <td>0.295086</td>\n",
       "      <td>-0.001248</td>\n",
       "      <td>-0.039102</td>\n",
       "      <td>-0.021904</td>\n",
       "      <td>0.006450</td>\n",
       "      <td>0.073674</td>\n",
       "      <td>-0.036610</td>\n",
       "      <td>0.003308</td>\n",
       "      <td>-0.004000</td>\n",
       "      <td>0.048993</td>\n",
       "      <td>...</td>\n",
       "      <td>0.024815</td>\n",
       "      <td>0.024174</td>\n",
       "      <td>0.008306</td>\n",
       "      <td>0.617064</td>\n",
       "      <td>-0.010914</td>\n",
       "      <td>0.010422</td>\n",
       "      <td>1.000000</td>\n",
       "      <td>0.755508</td>\n",
       "      <td>0.618041</td>\n",
       "      <td>0.773672</td>\n",
       "    </tr>\n",
       "    <tr>\n",
       "      <th>28</th>\n",
       "      <td>0.196997</td>\n",
       "      <td>-0.019117</td>\n",
       "      <td>0.008967</td>\n",
       "      <td>-0.048505</td>\n",
       "      <td>0.014848</td>\n",
       "      <td>0.062083</td>\n",
       "      <td>-0.020317</td>\n",
       "      <td>0.003727</td>\n",
       "      <td>0.009033</td>\n",
       "      <td>0.058862</td>\n",
       "      <td>...</td>\n",
       "      <td>0.043283</td>\n",
       "      <td>-0.016491</td>\n",
       "      <td>0.046176</td>\n",
       "      <td>0.447394</td>\n",
       "      <td>-0.017295</td>\n",
       "      <td>0.055943</td>\n",
       "      <td>0.755508</td>\n",
       "      <td>1.000000</td>\n",
       "      <td>0.539540</td>\n",
       "      <td>0.734735</td>\n",
       "    </tr>\n",
       "    <tr>\n",
       "      <th>29</th>\n",
       "      <td>0.210213</td>\n",
       "      <td>-0.009513</td>\n",
       "      <td>-0.044810</td>\n",
       "      <td>-0.041703</td>\n",
       "      <td>0.014447</td>\n",
       "      <td>0.061974</td>\n",
       "      <td>-0.028159</td>\n",
       "      <td>-0.007662</td>\n",
       "      <td>0.020559</td>\n",
       "      <td>0.034844</td>\n",
       "      <td>...</td>\n",
       "      <td>0.037317</td>\n",
       "      <td>0.025706</td>\n",
       "      <td>0.003784</td>\n",
       "      <td>0.396944</td>\n",
       "      <td>-0.015942</td>\n",
       "      <td>-0.001233</td>\n",
       "      <td>0.618041</td>\n",
       "      <td>0.539540</td>\n",
       "      <td>1.000000</td>\n",
       "      <td>0.505408</td>\n",
       "    </tr>\n",
       "    <tr>\n",
       "      <th>30</th>\n",
       "      <td>0.179257</td>\n",
       "      <td>-0.009472</td>\n",
       "      <td>-0.045412</td>\n",
       "      <td>-0.029547</td>\n",
       "      <td>0.013495</td>\n",
       "      <td>0.068144</td>\n",
       "      <td>-0.021025</td>\n",
       "      <td>-0.000354</td>\n",
       "      <td>0.005737</td>\n",
       "      <td>0.058254</td>\n",
       "      <td>...</td>\n",
       "      <td>0.030967</td>\n",
       "      <td>0.007434</td>\n",
       "      <td>0.020002</td>\n",
       "      <td>0.445214</td>\n",
       "      <td>-0.018423</td>\n",
       "      <td>0.003874</td>\n",
       "      <td>0.773672</td>\n",
       "      <td>0.734735</td>\n",
       "      <td>0.505408</td>\n",
       "      <td>1.000000</td>\n",
       "    </tr>\n",
       "  </tbody>\n",
       "</table>\n",
       "<p>31 rows × 31 columns</p>\n",
       "</div>"
      ],
      "text/plain": [
       "          0         1         2         3         4         5         6   \\\n",
       "0   1.000000 -0.030470 -0.003840  0.027361  0.001944  0.196619 -0.041529   \n",
       "1  -0.030470  1.000000 -0.025280 -0.004371 -0.005950 -0.040069 -0.023375   \n",
       "2  -0.003840 -0.025280  1.000000 -0.011968 -0.002533 -0.006820 -0.004654   \n",
       "3   0.027361 -0.004371 -0.011968  1.000000 -0.010755 -0.006100 -0.004210   \n",
       "4   0.001944 -0.005950 -0.002533 -0.010755  1.000000  0.025836  0.001293   \n",
       "5   0.196619 -0.040069 -0.006820 -0.006100  0.025836  1.000000  0.030514   \n",
       "6  -0.041529 -0.023375 -0.004654 -0.004210  0.001293  0.030514  1.000000   \n",
       "7  -0.011799 -0.013109 -0.058044  0.014913  0.026102  0.029102  0.015999   \n",
       "8  -0.010791 -0.012340  0.032875  0.033265 -0.010164 -0.032906  0.055167   \n",
       "9   0.034288  0.025369  0.007730 -0.035989  0.011317  0.013953 -0.018449   \n",
       "10  0.021322 -0.009454  0.024752  0.007672  0.035865  0.015424 -0.050227   \n",
       "11  0.018254  0.028194  0.045479  0.039398  0.004949  0.036956 -0.015736   \n",
       "12  0.506596 -0.020364 -0.003972 -0.091708  0.000635  0.116542 -0.027285   \n",
       "13  0.155185  0.007744  0.004665  0.424700 -0.051345 -0.025040  0.025673   \n",
       "14 -0.010726  0.017516  0.039812 -0.006624  0.008797 -0.021484 -0.032149   \n",
       "15  0.026329 -0.000548 -0.008105 -0.026163  0.054039  0.012274  0.003577   \n",
       "16  0.489970 -0.019317  0.002962 -0.045208 -0.023753  0.111700 -0.034405   \n",
       "17  0.026186 -0.002088 -0.040446 -0.036161  0.022361 -0.026649 -0.029257   \n",
       "18  0.311099 -0.022865  0.029517  0.045088 -0.026664  0.126090  0.005690   \n",
       "19  0.020620  0.057162  0.031955  0.004061  0.014215 -0.029035  0.017559   \n",
       "20  0.014436 -0.015914  0.015426  0.001267  0.043363 -0.004975 -0.013432   \n",
       "21  0.019908 -0.001055  0.001396  0.025037  0.036981 -0.024742 -0.006089   \n",
       "22  0.047915  0.016124  0.014269  0.028470  0.003600 -0.007242 -0.006477   \n",
       "23  0.023110 -0.025510  0.035250  0.016213  0.042324  0.002660 -0.018078   \n",
       "24  0.672128 -0.006531  0.002079  0.021393  0.006990  0.149607 -0.042673   \n",
       "25 -0.015968  0.008151  0.004938 -0.015798 -0.050869 -0.021933 -0.001876   \n",
       "26 -0.012029  0.002771 -0.028898 -0.021619 -0.029392  0.035519  0.064159   \n",
       "27  0.295086 -0.001248 -0.039102 -0.021904  0.006450  0.073674 -0.036610   \n",
       "28  0.196997 -0.019117  0.008967 -0.048505  0.014848  0.062083 -0.020317   \n",
       "29  0.210213 -0.009513 -0.044810 -0.041703  0.014447  0.061974 -0.028159   \n",
       "30  0.179257 -0.009472 -0.045412 -0.029547  0.013495  0.068144 -0.021025   \n",
       "\n",
       "          7         8         9   ...        21        22        23        24  \\\n",
       "0  -0.011799 -0.010791  0.034288  ...  0.019908  0.047915  0.023110  0.672128   \n",
       "1  -0.013109 -0.012340  0.025369  ... -0.001055  0.016124 -0.025510 -0.006531   \n",
       "2  -0.058044  0.032875  0.007730  ...  0.001396  0.014269  0.035250  0.002079   \n",
       "3   0.014913  0.033265 -0.035989  ...  0.025037  0.028470  0.016213  0.021393   \n",
       "4   0.026102 -0.010164  0.011317  ...  0.036981  0.003600  0.042324  0.006990   \n",
       "5   0.029102 -0.032906  0.013953  ... -0.024742 -0.007242  0.002660  0.149607   \n",
       "6   0.015999  0.055167 -0.018449  ... -0.006089 -0.006477 -0.018078 -0.042673   \n",
       "7   1.000000  0.028049 -0.030969  ... -0.015392 -0.060047  0.068339 -0.011495   \n",
       "8   0.028049  1.000000 -0.008581  ... -0.026878  0.011075  0.014381 -0.015143   \n",
       "9  -0.030969 -0.008581  1.000000  ...  0.006921 -0.026707 -0.016919  0.048375   \n",
       "10  0.042421 -0.061249  0.019121  ...  0.007883  0.007090  0.056536 -0.019209   \n",
       "11 -0.010767 -0.005359 -0.018233  ... -0.035469  0.024915  0.011413 -0.015272   \n",
       "12 -0.015758 -0.019988  0.050488  ... -0.022531  0.018443  0.007697  0.778825   \n",
       "13  0.011591 -0.025190  0.008921  ...  0.018679  0.014930 -0.030288  0.274949   \n",
       "14 -0.039745  0.008995 -0.033931  ...  0.019459 -0.016860  0.000038 -0.013312   \n",
       "15  0.055714 -0.022340  0.037015  ...  0.021009 -0.044929 -0.093505 -0.001052   \n",
       "16 -0.012265 -0.032466  0.044215  ... -0.021728  0.021003 -0.001262  0.768347   \n",
       "17  0.005172  0.039928  0.042033  ... -0.004021 -0.002744 -0.024760  0.027701   \n",
       "18 -0.009567  0.012522  0.034494  ... -0.017571  0.047067  0.017859  0.243934   \n",
       "19 -0.015632  0.056428  0.044633  ... -0.008026  0.040305 -0.002725  0.011653   \n",
       "20 -0.017797 -0.025619 -0.003401  ...  0.764958 -0.039989  0.018314 -0.015092   \n",
       "21 -0.015392 -0.026878  0.006921  ...  1.000000 -0.028515  0.026806  0.015806   \n",
       "22 -0.060047  0.011075 -0.026707  ... -0.028515  1.000000 -0.067221  0.016569   \n",
       "23  0.068339  0.014381 -0.016919  ...  0.026806 -0.067221  1.000000 -0.008333   \n",
       "24 -0.011495 -0.015143  0.048375  ...  0.015806  0.016569 -0.008333  1.000000   \n",
       "25  0.011907 -0.011832  0.026595  ... -0.002356  0.007607  0.001854 -0.038781   \n",
       "26  0.002144  0.027306  0.005956  ... -0.004505  0.019556 -0.003418 -0.004613   \n",
       "27  0.003308 -0.004000  0.048993  ...  0.024815  0.024174  0.008306  0.617064   \n",
       "28  0.003727  0.009033  0.058862  ...  0.043283 -0.016491  0.046176  0.447394   \n",
       "29 -0.007662  0.020559  0.034844  ...  0.037317  0.025706  0.003784  0.396944   \n",
       "30 -0.000354  0.005737  0.058254  ...  0.030967  0.007434  0.020002  0.445214   \n",
       "\n",
       "          25        26        27        28        29        30  \n",
       "0  -0.015968 -0.012029  0.295086  0.196997  0.210213  0.179257  \n",
       "1   0.008151  0.002771 -0.001248 -0.019117 -0.009513 -0.009472  \n",
       "2   0.004938 -0.028898 -0.039102  0.008967 -0.044810 -0.045412  \n",
       "3  -0.015798 -0.021619 -0.021904 -0.048505 -0.041703 -0.029547  \n",
       "4  -0.050869 -0.029392  0.006450  0.014848  0.014447  0.013495  \n",
       "5  -0.021933  0.035519  0.073674  0.062083  0.061974  0.068144  \n",
       "6  -0.001876  0.064159 -0.036610 -0.020317 -0.028159 -0.021025  \n",
       "7   0.011907  0.002144  0.003308  0.003727 -0.007662 -0.000354  \n",
       "8  -0.011832  0.027306 -0.004000  0.009033  0.020559  0.005737  \n",
       "9   0.026595  0.005956  0.048993  0.058862  0.034844  0.058254  \n",
       "10  0.025921  0.008836 -0.032695 -0.029050 -0.039865 -0.040776  \n",
       "11 -0.018438 -0.007592 -0.017991  0.004336 -0.030001  0.027505  \n",
       "12 -0.033987  0.027981  0.522418  0.369781  0.338095  0.361289  \n",
       "13  0.007464  0.037302  0.123057  0.047253  0.068458  0.037895  \n",
       "14 -0.041110 -0.012634 -0.011207 -0.020733 -0.029784 -0.030668  \n",
       "15 -0.007303 -0.001410  0.006327  0.021025  0.033041  0.007145  \n",
       "16 -0.034251  0.018099  0.500626  0.344707  0.329597  0.329074  \n",
       "17  0.023804  0.005115 -0.027450 -0.017426 -0.005643 -0.038808  \n",
       "18 -0.075267 -0.017988 -0.114647 -0.088707 -0.036045 -0.107159  \n",
       "19 -0.066781 -0.054290 -0.029792 -0.043747 -0.018304 -0.044038  \n",
       "20  0.007394  0.006079 -0.021292  0.002811 -0.008911 -0.009257  \n",
       "21 -0.002356 -0.004505  0.024815  0.043283  0.037317  0.030967  \n",
       "22  0.007607  0.019556  0.024174 -0.016491  0.025706  0.007434  \n",
       "23  0.001854 -0.003418  0.008306  0.046176  0.003784  0.020002  \n",
       "24 -0.038781 -0.004613  0.617064  0.447394  0.396944  0.445214  \n",
       "25  1.000000  0.032918 -0.010914 -0.017295 -0.015942 -0.018423  \n",
       "26  0.032918  1.000000  0.010422  0.055943 -0.001233  0.003874  \n",
       "27 -0.010914  0.010422  1.000000  0.755508  0.618041  0.773672  \n",
       "28 -0.017295  0.055943  0.755508  1.000000  0.539540  0.734735  \n",
       "29 -0.015942 -0.001233  0.618041  0.539540  1.000000  0.505408  \n",
       "30 -0.018423  0.003874  0.773672  0.734735  0.505408  1.000000  \n",
       "\n",
       "[31 rows x 31 columns]"
      ]
     },
     "execution_count": 28,
     "metadata": {},
     "output_type": "execute_result"
    }
   ],
   "source": [
    "corr = pd.DataFrame(X_train).corr()\n",
    "corr"
   ]
  },
  {
   "cell_type": "code",
   "execution_count": 29,
   "id": "6903870a",
   "metadata": {
    "scrolled": false
   },
   "outputs": [
    {
     "data": {
      "image/png": "[encoded data removed]",
      "text/plain": [
       "<Figure size 2160x2160 with 2 Axes>"
      ]
     },
     "metadata": {
      "needs_background": "light"
     },
     "output_type": "display_data"
    }
   ],
   "source": [
    "corr = pd.DataFrame(X_train).corr()\n",
    "mask1 = np.triu(np.ones_like(corr, dtype=bool))\n",
    "plt.figure(figsize = (30,30))\n",
    "sns.heatmap(corr, annot = True, cmap = \"seismic\", mask = mask1);"
   ]
  },
  {
   "cell_type": "code",
   "execution_count": 30,
   "id": "8cf67481",
   "metadata": {},
   "outputs": [
    {
     "data": {
      "text/plain": [
       "(1249, 31)"
      ]
     },
     "execution_count": 30,
     "metadata": {},
     "output_type": "execute_result"
    }
   ],
   "source": [
    "X_train.shape"
   ]
  },
  {
   "cell_type": "code",
   "execution_count": 31,
   "id": "df4f0a28",
   "metadata": {},
   "outputs": [],
   "source": [
    "def correlation(dataset, threshold):\n",
    "    col_corr = set() # Set of all the names of the redundant columns\n",
    "    corr_matrix = dataset.corr()\n",
    "    for i in range(len(corr_matrix.columns)):\n",
    "        for j in range(i):\n",
    "            if(abs(corr_matrix.iloc[i, j])) > threshold:\n",
    "                colname = corr_matrix.columns[i]\n",
    "                col_corr.add(colname)\n",
    "    return col_corr"
   ]
  },
  {
   "cell_type": "code",
   "execution_count": 32,
   "id": "0a601e08",
   "metadata": {
    "scrolled": false
   },
   "outputs": [
    {
     "name": "stdout",
     "output_type": "stream",
     "text": [
      "1\n",
      "{16}\n"
     ]
    }
   ],
   "source": [
    "corr_features = correlation(pd.DataFrame(X_train), 0.9) \n",
    "print(len(corr_features))\n",
    "print(corr_features)"
   ]
  },
  {
   "cell_type": "code",
   "execution_count": 33,
   "id": "9753e5c3",
   "metadata": {},
   "outputs": [
    {
     "data": {
      "text/plain": [
       "(1249, 30)"
      ]
     },
     "execution_count": 33,
     "metadata": {},
     "output_type": "execute_result"
    }
   ],
   "source": [
    "X_train = pd.DataFrame(X_train).drop(columns=[16])\n",
    "X_train.shape"
   ]
  },
  {
   "cell_type": "code",
   "execution_count": 34,
   "id": "21bc7faf",
   "metadata": {},
   "outputs": [
    {
     "data": {
      "text/plain": [
       "(221, 30)"
      ]
     },
     "execution_count": 34,
     "metadata": {},
     "output_type": "execute_result"
    }
   ],
   "source": [
    "X_test = pd.DataFrame(X_test).drop(columns=[16])\n",
    "X_test.shape"
   ]
  },
  {
   "cell_type": "code",
   "execution_count": 35,
   "id": "de92fd2a",
   "metadata": {},
   "outputs": [
    {
     "name": "stdout",
     "output_type": "stream",
     "text": [
      "17\n"
     ]
    },
    {
     "data": {
      "text/plain": [
       "(221, 30)"
      ]
     },
     "execution_count": 35,
     "metadata": {},
     "output_type": "execute_result"
    }
   ],
   "source": [
    "print(X_train.columns[16])\n",
    "X_test.shape"
   ]
  },
  {
   "cell_type": "markdown",
   "id": "e940859e",
   "metadata": {},
   "source": [
    "# Applying Decision Tree Classifier"
   ]
  },
  {
   "cell_type": "code",
   "execution_count": 36,
   "id": "5dac3762",
   "metadata": {},
   "outputs": [
    {
     "data": {
      "text/plain": [
       "DecisionTreeClassifier(max_depth=2, random_state=1)"
      ]
     },
     "execution_count": 36,
     "metadata": {},
     "output_type": "execute_result"
    }
   ],
   "source": [
    "from sklearn.metrics import accuracy_score, confusion_matrix, classification_report\n",
    "dt = DecisionTreeClassifier(max_depth = 2, random_state = 1)\n",
    "dt.fit(X_train, y_train)"
   ]
  },
  {
   "cell_type": "code",
   "execution_count": 37,
   "id": "d5db6009",
   "metadata": {},
   "outputs": [
    {
     "name": "stdout",
     "output_type": "stream",
     "text": [
      "Depth =  2 , Training Accuracy =  0.8478783026421137 , Test Accuracy =  0.8235294117647058 , Diff =  2.434889087740788  %\n",
      "Depth =  3 , Training Accuracy =  0.8606885508406725 , Test Accuracy =  0.8054298642533937 , Diff =  5.525868658727884  %\n",
      "Depth =  4 , Training Accuracy =  0.8791032826261009 , Test Accuracy =  0.7873303167420814 , Diff =  9.177296588401951  %\n",
      "Depth =  5 , Training Accuracy =  0.8959167333867094 , Test Accuracy =  0.7828054298642534 , Diff =  11.311130352245602  %\n",
      "Depth =  6 , Training Accuracy =  0.9151321056845476 , Test Accuracy =  0.7873303167420814 , Diff =  12.78017889424662  %\n",
      "Depth =  7 , Training Accuracy =  0.9399519615692554 , Test Accuracy =  0.7692307692307693 , Diff =  17.072119233848614  %\n",
      "Depth =  8 , Training Accuracy =  0.9503602882305845 , Test Accuracy =  0.7918552036199095 , Diff =  15.850508461067502  %\n",
      "Depth =  9 , Training Accuracy =  0.9623698959167334 , Test Accuracy =  0.7782805429864253 , Diff =  18.408935293030805  %\n",
      "Depth =  10 , Training Accuracy =  0.9767814251401121 , Test Accuracy =  0.7737556561085973 , Diff =  20.302576903151483  %\n",
      "Depth =  15 , Training Accuracy =  1.0 , Test Accuracy =  0.746606334841629 , Diff =  25.339366515837103  %\n",
      "Depth =  20 , Training Accuracy =  1.0 , Test Accuracy =  0.7330316742081447 , Diff =  26.696832579185525  %\n",
      "Depth =  25 , Training Accuracy =  1.0 , Test Accuracy =  0.7239819004524887 , Diff =  27.601809954751133  %\n",
      "Depth =  30 , Training Accuracy =  1.0 , Test Accuracy =  0.7330316742081447 , Diff =  26.696832579185525  %\n",
      "Depth =  35 , Training Accuracy =  1.0 , Test Accuracy =  0.746606334841629 , Diff =  25.339366515837103  %\n",
      "Depth =  40 , Training Accuracy =  1.0 , Test Accuracy =  0.7285067873303167 , Diff =  27.14932126696833  %\n",
      "Depth =  45 , Training Accuracy =  1.0 , Test Accuracy =  0.7420814479638009 , Diff =  25.791855203619907  %\n",
      "Depth =  50 , Training Accuracy =  1.0 , Test Accuracy =  0.7285067873303167 , Diff =  27.14932126696833  %\n"
     ]
    },
    {
     "data": {
      "image/png": "[encoded data removed]",
      "text/plain": [
       "<Figure size 432x288 with 1 Axes>"
      ]
     },
     "metadata": {
      "needs_background": "light"
     },
     "output_type": "display_data"
    }
   ],
   "source": [
    "maxdepths = [2,3,4,5,6,7,8,9,10,15,20,25,30,35,40,45,50]\n",
    "trainAcc = np.zeros(len(maxdepths))\n",
    "testAcc = np.zeros(len(maxdepths))\n",
    "index = 0\n",
    "for depth in maxdepths:\n",
    "    clf = DecisionTreeClassifier(max_depth=depth)\n",
    "    clf = clf.fit(X_train, y_train)\n",
    "    y_predTrain = clf.predict(X_train)\n",
    "    y_predTest = clf.predict(X_test)\n",
    "    trainAcc[index] = accuracy_score(y_train, y_predTrain)\n",
    "    testAcc[index] = accuracy_score(y_test, y_predTest)\n",
    "    print(\"Depth = \", depth, \", Training Accuracy = \", trainAcc[index], \", Test Accuracy = \", testAcc[index], \n",
    "          \", Diff = \", np.abs((trainAcc[index]-testAcc[index])*100), \" %\")\n",
    "    index += 1\n",
    "\n",
    "    \n",
    "\n",
    "import matplotlib.pyplot as plt\n",
    "plt.plot(maxdepths,trainAcc,'ro-',maxdepths,testAcc,'bv--')\n",
    "plt.legend(['Training Accuracy','Test Accuracy'])\n",
    "plt.xlabel('Max depth')\n",
    "plt.ylabel('Accuracy');"
   ]
  },
  {
   "cell_type": "code",
   "execution_count": 38,
   "id": "7816395a",
   "metadata": {
    "scrolled": true
   },
   "outputs": [
    {
     "name": "stdout",
     "output_type": "stream",
     "text": [
      "Training Accuracy is:  0.8478783026421137\n",
      "Testing Accuracy is:  0.8235294117647058\n"
     ]
    }
   ],
   "source": [
    "print(\"Training Accuracy is: \", dt.score(X_train, y_train))\n",
    "print(\"Testing Accuracy is: \", dt.score(X_test, y_test))"
   ]
  },
  {
   "cell_type": "markdown",
   "id": "a4610012",
   "metadata": {},
   "source": [
    "# Confusion Matrix"
   ]
  },
  {
   "cell_type": "code",
   "execution_count": 39,
   "id": "d5f52e5b",
   "metadata": {},
   "outputs": [],
   "source": [
    "def plot_confusion_matrix(cm, classes=None, title='Confusion matrix'):\n",
    "    \"\"\"Plots a confusion matrix.\"\"\"\n",
    "    if classes is not None:\n",
    "        sns.heatmap(cm, xticklabels=classes, yticklabels=classes, vmin=0., vmax=1., annot=True, annot_kws={'size':50})\n",
    "    else:\n",
    "        sns.heatmap(cm, vmin=0., vmax=1.)\n",
    "    plt.title(title)\n",
    "    plt.ylabel('True label')\n",
    "    plt.xlabel('Predicted label')"
   ]
  },
  {
   "cell_type": "code",
   "execution_count": 40,
   "id": "e15c19d5",
   "metadata": {},
   "outputs": [
    {
     "data": {
      "image/png": "[encoded data removed]",
      "text/plain": [
       "<Figure size 432x288 with 2 Axes>"
      ]
     },
     "metadata": {
      "needs_background": "light"
     },
     "output_type": "display_data"
    }
   ],
   "source": [
    "y_pred = dt.predict(X_train)\n",
    "\n",
    "# Plotting Confusion Matrix\n",
    "cm = confusion_matrix(y_train, y_pred)\n",
    "cm_norm = cm/cm.sum(axis=1)[:, np.newaxis]\n",
    "plt.figure()\n",
    "plot_confusion_matrix(cm_norm, classes=dt.classes_, title='Training confusion')"
   ]
  },
  {
   "cell_type": "markdown",
   "id": "54f95b06",
   "metadata": {},
   "source": [
    "# Applying KNN Classifier"
   ]
  },
  {
   "cell_type": "code",
   "execution_count": 41,
   "id": "37f0cae5",
   "metadata": {},
   "outputs": [
    {
     "name": "stdout",
     "output_type": "stream",
     "text": [
      "X shape: (1470, 31)\n",
      "y shape: (1470,)\n",
      "X_train shape: (1249, 30)\n",
      "X_test shape: (221, 30)\n",
      "K =  1 , Training Accuracy =  1.0  Test Accuracy =  0.7828054298642534 , Difference =  21.71945701357466 %\n",
      "K =  5 , Training Accuracy =  0.8726981585268214  Test Accuracy =  0.832579185520362 , Difference =  4.0118973006459395 %\n",
      "K =  10 , Training Accuracy =  0.8510808646917534  Test Accuracy =  0.8416289592760181 , Difference =  0.9451905415735262 %\n",
      "K =  15 , Training Accuracy =  0.8534827862289832  Test Accuracy =  0.832579185520362 , Difference =  2.0903600708621184 %\n",
      "K =  20 , Training Accuracy =  0.8478783026421137  Test Accuracy =  0.8280542986425339 , Difference =  1.9824003999579842 %\n",
      "K =  25 , Training Accuracy =  0.8454763811048839  Test Accuracy =  0.8235294117647058 , Difference =  2.1946969340178035 %\n",
      "K =  30 , Training Accuracy =  0.844675740592474  Test Accuracy =  0.8235294117647058 , Difference =  2.1146328827768124 %\n"
     ]
    },
    {
     "data": {
      "image/png": "[encoded data removed]",
      "text/plain": [
       "<Figure size 432x288 with 1 Axes>"
      ]
     },
     "metadata": {
      "needs_background": "light"
     },
     "output_type": "display_data"
    }
   ],
   "source": [
    "from sklearn.neighbors import KNeighborsClassifier\n",
    "X = df.drop(columns = ['Attrition','EmployeeCount','Over18', 'StandardHours']).values# Input features (attributes)\n",
    "y = df['Attrition'].values # Target vector\n",
    "print('X shape: {}'.format(np.shape(X)))\n",
    "print('y shape: {}'.format(np.shape(y)))\n",
    "\n",
    "X_train, X_test, y_train, y_test = train_test_split(X, y, train_size = 0.85, test_size=0.15, random_state=0)\n",
    "X_train = pd.DataFrame(X_train).drop(columns=[16])\n",
    "X_test = pd.DataFrame(X_test).drop(columns=[16])\n",
    "print('X_train shape: {}'.format(np.shape(X_train)))\n",
    "print('X_test shape: {}'.format(np.shape(X_test)))\n",
    "\n",
    "\n",
    "numNeighbors = [1, 5, 10, 15, 20, 25, 30]\n",
    "trainAcc = []\n",
    "testAcc = []\n",
    "\n",
    "for k in numNeighbors:\n",
    "    clf = KNeighborsClassifier(n_neighbors=k, metric='minkowski', p=2)\n",
    "    clf.fit(X_train, y_train)\n",
    "    y_predTrain = clf.predict(X_train)\n",
    "    y_predTest = clf.predict(X_test)\n",
    "    trainAcc.append(accuracy_score(y_train, y_predTrain))\n",
    "    testAcc.append(accuracy_score(y_test, y_predTest))\n",
    "\n",
    "plt.plot(numNeighbors, trainAcc, 'ro-', numNeighbors, testAcc,'bv--')\n",
    "plt.legend(['Training Accuracy','Test Accuracy'])\n",
    "plt.xlabel('Number of neighbors')\n",
    "plt.ylabel('Accuracy');\n",
    "\n",
    "index = 0\n",
    "for i in numNeighbors:\n",
    "    print(\"K = \", numNeighbors[index], \", Training Accuracy = \", trainAcc[index], \" Test Accuracy = \", testAcc[index], \n",
    "          \", Difference = \", np.abs(trainAcc[index]-testAcc[index])*100, \"%\")\n",
    "    index+=1"
   ]
  },
  {
   "cell_type": "markdown",
   "id": "012784df",
   "metadata": {},
   "source": [
    "#  Applying Logistic Regression"
   ]
  },
  {
   "cell_type": "code",
   "execution_count": 42,
   "id": "9ac1523d",
   "metadata": {},
   "outputs": [
    {
     "data": {
      "text/html": [
       "<div>\n",
       "<style scoped>\n",
       "    .dataframe tbody tr th:only-of-type {\n",
       "        vertical-align: middle;\n",
       "    }\n",
       "\n",
       "    .dataframe tbody tr th {\n",
       "        vertical-align: top;\n",
       "    }\n",
       "\n",
       "    .dataframe thead th {\n",
       "        text-align: right;\n",
       "    }\n",
       "</style>\n",
       "<table border=\"1\" class=\"dataframe\">\n",
       "  <thead>\n",
       "    <tr style=\"text-align: right;\">\n",
       "      <th></th>\n",
       "      <th>Age</th>\n",
       "      <th>Attrition</th>\n",
       "      <th>BusinessTravel</th>\n",
       "      <th>DailyRate</th>\n",
       "      <th>Department</th>\n",
       "      <th>DistanceFromHome</th>\n",
       "      <th>Education</th>\n",
       "      <th>EducationField</th>\n",
       "      <th>EmployeeCount</th>\n",
       "      <th>EmployeeNumber</th>\n",
       "      <th>...</th>\n",
       "      <th>RelationshipSatisfaction</th>\n",
       "      <th>StandardHours</th>\n",
       "      <th>StockOptionLevel</th>\n",
       "      <th>TotalWorkingYears</th>\n",
       "      <th>TrainingTimesLastYear</th>\n",
       "      <th>WorkLifeBalance</th>\n",
       "      <th>YearsAtCompany</th>\n",
       "      <th>YearsInCurrentRole</th>\n",
       "      <th>YearsSinceLastPromotion</th>\n",
       "      <th>YearsWithCurrManager</th>\n",
       "    </tr>\n",
       "  </thead>\n",
       "  <tbody>\n",
       "    <tr>\n",
       "      <th>0</th>\n",
       "      <td>0.547619</td>\n",
       "      <td>1.0</td>\n",
       "      <td>0.5</td>\n",
       "      <td>0.715820</td>\n",
       "      <td>0.0</td>\n",
       "      <td>0.000000</td>\n",
       "      <td>0.25</td>\n",
       "      <td>0.0</td>\n",
       "      <td>0.0</td>\n",
       "      <td>0.000000</td>\n",
       "      <td>...</td>\n",
       "      <td>0.000000</td>\n",
       "      <td>0.0</td>\n",
       "      <td>0.000000</td>\n",
       "      <td>0.200</td>\n",
       "      <td>0.0</td>\n",
       "      <td>0.000000</td>\n",
       "      <td>0.15</td>\n",
       "      <td>0.222222</td>\n",
       "      <td>0.000000</td>\n",
       "      <td>0.294118</td>\n",
       "    </tr>\n",
       "    <tr>\n",
       "      <th>1</th>\n",
       "      <td>0.738095</td>\n",
       "      <td>0.0</td>\n",
       "      <td>1.0</td>\n",
       "      <td>0.126700</td>\n",
       "      <td>0.5</td>\n",
       "      <td>0.250000</td>\n",
       "      <td>0.00</td>\n",
       "      <td>0.0</td>\n",
       "      <td>0.0</td>\n",
       "      <td>0.000484</td>\n",
       "      <td>...</td>\n",
       "      <td>1.000000</td>\n",
       "      <td>0.0</td>\n",
       "      <td>0.333333</td>\n",
       "      <td>0.250</td>\n",
       "      <td>0.5</td>\n",
       "      <td>0.666667</td>\n",
       "      <td>0.25</td>\n",
       "      <td>0.388889</td>\n",
       "      <td>0.066667</td>\n",
       "      <td>0.411765</td>\n",
       "    </tr>\n",
       "    <tr>\n",
       "      <th>2</th>\n",
       "      <td>0.452381</td>\n",
       "      <td>1.0</td>\n",
       "      <td>0.5</td>\n",
       "      <td>0.909807</td>\n",
       "      <td>0.5</td>\n",
       "      <td>0.035714</td>\n",
       "      <td>0.25</td>\n",
       "      <td>1.0</td>\n",
       "      <td>0.0</td>\n",
       "      <td>0.001451</td>\n",
       "      <td>...</td>\n",
       "      <td>0.333333</td>\n",
       "      <td>0.0</td>\n",
       "      <td>0.000000</td>\n",
       "      <td>0.175</td>\n",
       "      <td>0.5</td>\n",
       "      <td>0.666667</td>\n",
       "      <td>0.00</td>\n",
       "      <td>0.000000</td>\n",
       "      <td>0.000000</td>\n",
       "      <td>0.000000</td>\n",
       "    </tr>\n",
       "    <tr>\n",
       "      <th>3</th>\n",
       "      <td>0.357143</td>\n",
       "      <td>0.0</td>\n",
       "      <td>1.0</td>\n",
       "      <td>0.923407</td>\n",
       "      <td>0.5</td>\n",
       "      <td>0.071429</td>\n",
       "      <td>0.75</td>\n",
       "      <td>0.0</td>\n",
       "      <td>0.0</td>\n",
       "      <td>0.001935</td>\n",
       "      <td>...</td>\n",
       "      <td>0.666667</td>\n",
       "      <td>0.0</td>\n",
       "      <td>0.000000</td>\n",
       "      <td>0.200</td>\n",
       "      <td>0.5</td>\n",
       "      <td>0.666667</td>\n",
       "      <td>0.20</td>\n",
       "      <td>0.388889</td>\n",
       "      <td>0.200000</td>\n",
       "      <td>0.000000</td>\n",
       "    </tr>\n",
       "    <tr>\n",
       "      <th>4</th>\n",
       "      <td>0.214286</td>\n",
       "      <td>0.0</td>\n",
       "      <td>0.5</td>\n",
       "      <td>0.350036</td>\n",
       "      <td>0.5</td>\n",
       "      <td>0.035714</td>\n",
       "      <td>0.00</td>\n",
       "      <td>0.2</td>\n",
       "      <td>0.0</td>\n",
       "      <td>0.002903</td>\n",
       "      <td>...</td>\n",
       "      <td>1.000000</td>\n",
       "      <td>0.0</td>\n",
       "      <td>0.333333</td>\n",
       "      <td>0.150</td>\n",
       "      <td>0.5</td>\n",
       "      <td>0.666667</td>\n",
       "      <td>0.05</td>\n",
       "      <td>0.111111</td>\n",
       "      <td>0.133333</td>\n",
       "      <td>0.117647</td>\n",
       "    </tr>\n",
       "  </tbody>\n",
       "</table>\n",
       "<p>5 rows × 35 columns</p>\n",
       "</div>"
      ],
      "text/plain": [
       "        Age  Attrition  BusinessTravel  DailyRate  Department  \\\n",
       "0  0.547619        1.0             0.5   0.715820         0.0   \n",
       "1  0.738095        0.0             1.0   0.126700         0.5   \n",
       "2  0.452381        1.0             0.5   0.909807         0.5   \n",
       "3  0.357143        0.0             1.0   0.923407         0.5   \n",
       "4  0.214286        0.0             0.5   0.350036         0.5   \n",
       "\n",
       "   DistanceFromHome  Education  EducationField  EmployeeCount  EmployeeNumber  \\\n",
       "0          0.000000       0.25             0.0            0.0        0.000000   \n",
       "1          0.250000       0.00             0.0            0.0        0.000484   \n",
       "2          0.035714       0.25             1.0            0.0        0.001451   \n",
       "3          0.071429       0.75             0.0            0.0        0.001935   \n",
       "4          0.035714       0.00             0.2            0.0        0.002903   \n",
       "\n",
       "   ...  RelationshipSatisfaction  StandardHours  StockOptionLevel  \\\n",
       "0  ...                  0.000000            0.0          0.000000   \n",
       "1  ...                  1.000000            0.0          0.333333   \n",
       "2  ...                  0.333333            0.0          0.000000   \n",
       "3  ...                  0.666667            0.0          0.000000   \n",
       "4  ...                  1.000000            0.0          0.333333   \n",
       "\n",
       "   TotalWorkingYears  TrainingTimesLastYear  WorkLifeBalance  YearsAtCompany  \\\n",
       "0              0.200                    0.0         0.000000            0.15   \n",
       "1              0.250                    0.5         0.666667            0.25   \n",
       "2              0.175                    0.5         0.666667            0.00   \n",
       "3              0.200                    0.5         0.666667            0.20   \n",
       "4              0.150                    0.5         0.666667            0.05   \n",
       "\n",
       "   YearsInCurrentRole  YearsSinceLastPromotion  YearsWithCurrManager  \n",
       "0            0.222222                 0.000000              0.294118  \n",
       "1            0.388889                 0.066667              0.411765  \n",
       "2            0.000000                 0.000000              0.000000  \n",
       "3            0.388889                 0.200000              0.000000  \n",
       "4            0.111111                 0.133333              0.117647  \n",
       "\n",
       "[5 rows x 35 columns]"
      ]
     },
     "execution_count": 42,
     "metadata": {},
     "output_type": "execute_result"
    }
   ],
   "source": [
    "df.head()"
   ]
  },
  {
   "cell_type": "code",
   "execution_count": 43,
   "id": "b44e977a",
   "metadata": {},
   "outputs": [
    {
     "data": {
      "text/plain": [
       "<matplotlib.collections.PathCollection at 0x1f7409bffa0>"
      ]
     },
     "execution_count": 43,
     "metadata": {},
     "output_type": "execute_result"
    },
    {
     "data": {
      "image/png": "[encoded data removed]",
      "text/plain": [
       "<Figure size 432x288 with 1 Axes>"
      ]
     },
     "metadata": {
      "needs_background": "light"
     },
     "output_type": "display_data"
    }
   ],
   "source": [
    "plt.scatter(df.Age,df.Attrition,marker='+',color='red')"
   ]
  },
  {
   "cell_type": "code",
   "execution_count": 44,
   "id": "60b23f34",
   "metadata": {},
   "outputs": [
    {
     "data": {
      "text/plain": [
       "<matplotlib.collections.PathCollection at 0x1f742030850>"
      ]
     },
     "execution_count": 44,
     "metadata": {},
     "output_type": "execute_result"
    },
    {
     "data": {
      "image/png": "[encoded data removed]",
      "text/plain": [
       "<Figure size 432x288 with 1 Axes>"
      ]
     },
     "metadata": {
      "needs_background": "light"
     },
     "output_type": "display_data"
    }
   ],
   "source": [
    "plt.scatter(df.BusinessTravel,df.Attrition,marker='+',color='red')"
   ]
  },
  {
   "cell_type": "code",
   "execution_count": 45,
   "id": "6990dfc1",
   "metadata": {},
   "outputs": [
    {
     "data": {
      "text/plain": [
       "<matplotlib.collections.PathCollection at 0x1f74082cd60>"
      ]
     },
     "execution_count": 45,
     "metadata": {},
     "output_type": "execute_result"
    },
    {
     "data": {
      "image/png": "[encoded data removed]",
      "text/plain": [
       "<Figure size 432x288 with 1 Axes>"
      ]
     },
     "metadata": {
      "needs_background": "light"
     },
     "output_type": "display_data"
    }
   ],
   "source": [
    "plt.scatter(df.DailyRate,df.Attrition,marker='+',color='red')"
   ]
  },
  {
   "cell_type": "code",
   "execution_count": 46,
   "id": "d7dd992b",
   "metadata": {},
   "outputs": [
    {
     "data": {
      "text/plain": [
       "<matplotlib.collections.PathCollection at 0x1f740a48130>"
      ]
     },
     "execution_count": 46,
     "metadata": {},
     "output_type": "execute_result"
    },
    {
     "data": {
      "image/png": "[encoded data removed]",
      "text/plain": [
       "<Figure size 432x288 with 1 Axes>"
      ]
     },
     "metadata": {
      "needs_background": "light"
     },
     "output_type": "display_data"
    }
   ],
   "source": [
    "plt.scatter(df.Department,df.Attrition,marker='+',color='red')"
   ]
  },
  {
   "cell_type": "code",
   "execution_count": 47,
   "id": "b828a111",
   "metadata": {},
   "outputs": [
    {
     "data": {
      "text/plain": [
       "<matplotlib.collections.PathCollection at 0x1f740a8c790>"
      ]
     },
     "execution_count": 47,
     "metadata": {},
     "output_type": "execute_result"
    },
    {
     "data": {
      "image/png": "[encoded data removed]",
      "text/plain": [
       "<Figure size 432x288 with 1 Axes>"
      ]
     },
     "metadata": {
      "needs_background": "light"
     },
     "output_type": "display_data"
    }
   ],
   "source": [
    "plt.scatter(df.DistanceFromHome,df.Attrition,marker='+',color='red')"
   ]
  },
  {
   "cell_type": "code",
   "execution_count": 48,
   "id": "fe2334e4",
   "metadata": {},
   "outputs": [
    {
     "data": {
      "text/plain": [
       "<matplotlib.collections.PathCollection at 0x1f740b07b50>"
      ]
     },
     "execution_count": 48,
     "metadata": {},
     "output_type": "execute_result"
    },
    {
     "data": {
      "image/png": "[encoded data removed]",
      "text/plain": [
       "<Figure size 432x288 with 1 Axes>"
      ]
     },
     "metadata": {
      "needs_background": "light"
     },
     "output_type": "display_data"
    }
   ],
   "source": [
    "plt.scatter(df.Education,df.Attrition,marker='+',color='red')"
   ]
  },
  {
   "cell_type": "code",
   "execution_count": 49,
   "id": "509a3e70",
   "metadata": {},
   "outputs": [
    {
     "data": {
      "text/plain": [
       "<matplotlib.collections.PathCollection at 0x1f740b1c040>"
      ]
     },
     "execution_count": 49,
     "metadata": {},
     "output_type": "execute_result"
    },
    {
     "data": {
      "image/png": "[encoded data removed]",
      "text/plain": [
       "<Figure size 432x288 with 1 Axes>"
      ]
     },
     "metadata": {
      "needs_background": "light"
     },
     "output_type": "display_data"
    }
   ],
   "source": [
    "plt.scatter(df.EducationField,df.Attrition,marker='+',color='red')"
   ]
  },
  {
   "cell_type": "code",
   "execution_count": 50,
   "id": "01aecea7",
   "metadata": {},
   "outputs": [
    {
     "data": {
      "text/plain": [
       "<matplotlib.collections.PathCollection at 0x1f740bd4820>"
      ]
     },
     "execution_count": 50,
     "metadata": {},
     "output_type": "execute_result"
    },
    {
     "data": {
      "image/png": "[encoded data removed]",
      "text/plain": [
       "<Figure size 432x288 with 1 Axes>"
      ]
     },
     "metadata": {
      "needs_background": "light"
     },
     "output_type": "display_data"
    }
   ],
   "source": [
    "plt.scatter(df.StandardHours,df.Attrition,marker='+',color='red')"
   ]
  },
  {
   "cell_type": "code",
   "execution_count": 51,
   "id": "5f2ba58e",
   "metadata": {},
   "outputs": [
    {
     "data": {
      "text/plain": [
       "<matplotlib.collections.PathCollection at 0x1f740be4e50>"
      ]
     },
     "execution_count": 51,
     "metadata": {},
     "output_type": "execute_result"
    },
    {
     "data": {
      "image/png": "[encoded data removed]",
      "text/plain": [
       "<Figure size 432x288 with 1 Axes>"
      ]
     },
     "metadata": {
      "needs_background": "light"
     },
     "output_type": "display_data"
    }
   ],
   "source": [
    "plt.scatter(df.TotalWorkingYears,df.Attrition,marker='+',color='red')"
   ]
  },
  {
   "cell_type": "code",
   "execution_count": 52,
   "id": "dfee5453",
   "metadata": {},
   "outputs": [
    {
     "data": {
      "text/plain": [
       "array([[112,   4],\n",
       "       [ 22,   9]], dtype=int64)"
      ]
     },
     "execution_count": 52,
     "metadata": {},
     "output_type": "execute_result"
    }
   ],
   "source": [
    "from sklearn.model_selection import train_test_split\n",
    "from sklearn.linear_model import LogisticRegression\n",
    "X_train, X_test, y_train, y_test = train_test_split(X, y, train_size = 0.9, test_size=0.1, random_state=1)\n",
    "\n",
    "model = LogisticRegression(solver = 'lbfgs', max_iter = 500)\n",
    "model.fit(X_train, y_train)\n",
    "\n",
    "y_pred = model.predict(X_test)\n",
    "confusion_matrix(y_test, y_pred)"
   ]
  },
  {
   "cell_type": "code",
   "execution_count": 53,
   "id": "120d98f5",
   "metadata": {},
   "outputs": [
    {
     "name": "stdout",
     "output_type": "stream",
     "text": [
      "Training Accuracy is:  0.889644746787604\n",
      "Testing Accuracy is:  0.8231292517006803\n"
     ]
    }
   ],
   "source": [
    "print(\"Training Accuracy is: \", model.score(X_train, y_train))\n",
    "print(\"Testing Accuracy is: \", model.score(X_test, y_test))"
   ]
  },
  {
   "cell_type": "markdown",
   "id": "1d79fb28",
   "metadata": {},
   "source": [
    "# Random Forest Classifier"
   ]
  },
  {
   "cell_type": "code",
   "execution_count": 54,
   "id": "24f10493",
   "metadata": {},
   "outputs": [
    {
     "data": {
      "text/html": [
       "<div>\n",
       "<style scoped>\n",
       "    .dataframe tbody tr th:only-of-type {\n",
       "        vertical-align: middle;\n",
       "    }\n",
       "\n",
       "    .dataframe tbody tr th {\n",
       "        vertical-align: top;\n",
       "    }\n",
       "\n",
       "    .dataframe thead th {\n",
       "        text-align: right;\n",
       "    }\n",
       "</style>\n",
       "<table border=\"1\" class=\"dataframe\">\n",
       "  <thead>\n",
       "    <tr style=\"text-align: right;\">\n",
       "      <th></th>\n",
       "      <th>Age</th>\n",
       "      <th>Attrition</th>\n",
       "      <th>BusinessTravel</th>\n",
       "      <th>DailyRate</th>\n",
       "      <th>Department</th>\n",
       "      <th>DistanceFromHome</th>\n",
       "      <th>Education</th>\n",
       "      <th>EducationField</th>\n",
       "      <th>EmployeeCount</th>\n",
       "      <th>EmployeeNumber</th>\n",
       "      <th>...</th>\n",
       "      <th>RelationshipSatisfaction</th>\n",
       "      <th>StandardHours</th>\n",
       "      <th>StockOptionLevel</th>\n",
       "      <th>TotalWorkingYears</th>\n",
       "      <th>TrainingTimesLastYear</th>\n",
       "      <th>WorkLifeBalance</th>\n",
       "      <th>YearsAtCompany</th>\n",
       "      <th>YearsInCurrentRole</th>\n",
       "      <th>YearsSinceLastPromotion</th>\n",
       "      <th>YearsWithCurrManager</th>\n",
       "    </tr>\n",
       "  </thead>\n",
       "  <tbody>\n",
       "    <tr>\n",
       "      <th>0</th>\n",
       "      <td>0.547619</td>\n",
       "      <td>1.0</td>\n",
       "      <td>0.5</td>\n",
       "      <td>0.715820</td>\n",
       "      <td>0.0</td>\n",
       "      <td>0.000000</td>\n",
       "      <td>0.25</td>\n",
       "      <td>0.0</td>\n",
       "      <td>0.0</td>\n",
       "      <td>0.000000</td>\n",
       "      <td>...</td>\n",
       "      <td>0.000000</td>\n",
       "      <td>0.0</td>\n",
       "      <td>0.000000</td>\n",
       "      <td>0.200</td>\n",
       "      <td>0.0</td>\n",
       "      <td>0.000000</td>\n",
       "      <td>0.15</td>\n",
       "      <td>0.222222</td>\n",
       "      <td>0.000000</td>\n",
       "      <td>0.294118</td>\n",
       "    </tr>\n",
       "    <tr>\n",
       "      <th>1</th>\n",
       "      <td>0.738095</td>\n",
       "      <td>0.0</td>\n",
       "      <td>1.0</td>\n",
       "      <td>0.126700</td>\n",
       "      <td>0.5</td>\n",
       "      <td>0.250000</td>\n",
       "      <td>0.00</td>\n",
       "      <td>0.0</td>\n",
       "      <td>0.0</td>\n",
       "      <td>0.000484</td>\n",
       "      <td>...</td>\n",
       "      <td>1.000000</td>\n",
       "      <td>0.0</td>\n",
       "      <td>0.333333</td>\n",
       "      <td>0.250</td>\n",
       "      <td>0.5</td>\n",
       "      <td>0.666667</td>\n",
       "      <td>0.25</td>\n",
       "      <td>0.388889</td>\n",
       "      <td>0.066667</td>\n",
       "      <td>0.411765</td>\n",
       "    </tr>\n",
       "    <tr>\n",
       "      <th>2</th>\n",
       "      <td>0.452381</td>\n",
       "      <td>1.0</td>\n",
       "      <td>0.5</td>\n",
       "      <td>0.909807</td>\n",
       "      <td>0.5</td>\n",
       "      <td>0.035714</td>\n",
       "      <td>0.25</td>\n",
       "      <td>1.0</td>\n",
       "      <td>0.0</td>\n",
       "      <td>0.001451</td>\n",
       "      <td>...</td>\n",
       "      <td>0.333333</td>\n",
       "      <td>0.0</td>\n",
       "      <td>0.000000</td>\n",
       "      <td>0.175</td>\n",
       "      <td>0.5</td>\n",
       "      <td>0.666667</td>\n",
       "      <td>0.00</td>\n",
       "      <td>0.000000</td>\n",
       "      <td>0.000000</td>\n",
       "      <td>0.000000</td>\n",
       "    </tr>\n",
       "    <tr>\n",
       "      <th>3</th>\n",
       "      <td>0.357143</td>\n",
       "      <td>0.0</td>\n",
       "      <td>1.0</td>\n",
       "      <td>0.923407</td>\n",
       "      <td>0.5</td>\n",
       "      <td>0.071429</td>\n",
       "      <td>0.75</td>\n",
       "      <td>0.0</td>\n",
       "      <td>0.0</td>\n",
       "      <td>0.001935</td>\n",
       "      <td>...</td>\n",
       "      <td>0.666667</td>\n",
       "      <td>0.0</td>\n",
       "      <td>0.000000</td>\n",
       "      <td>0.200</td>\n",
       "      <td>0.5</td>\n",
       "      <td>0.666667</td>\n",
       "      <td>0.20</td>\n",
       "      <td>0.388889</td>\n",
       "      <td>0.200000</td>\n",
       "      <td>0.000000</td>\n",
       "    </tr>\n",
       "    <tr>\n",
       "      <th>4</th>\n",
       "      <td>0.214286</td>\n",
       "      <td>0.0</td>\n",
       "      <td>0.5</td>\n",
       "      <td>0.350036</td>\n",
       "      <td>0.5</td>\n",
       "      <td>0.035714</td>\n",
       "      <td>0.00</td>\n",
       "      <td>0.2</td>\n",
       "      <td>0.0</td>\n",
       "      <td>0.002903</td>\n",
       "      <td>...</td>\n",
       "      <td>1.000000</td>\n",
       "      <td>0.0</td>\n",
       "      <td>0.333333</td>\n",
       "      <td>0.150</td>\n",
       "      <td>0.5</td>\n",
       "      <td>0.666667</td>\n",
       "      <td>0.05</td>\n",
       "      <td>0.111111</td>\n",
       "      <td>0.133333</td>\n",
       "      <td>0.117647</td>\n",
       "    </tr>\n",
       "  </tbody>\n",
       "</table>\n",
       "<p>5 rows × 35 columns</p>\n",
       "</div>"
      ],
      "text/plain": [
       "        Age  Attrition  BusinessTravel  DailyRate  Department  \\\n",
       "0  0.547619        1.0             0.5   0.715820         0.0   \n",
       "1  0.738095        0.0             1.0   0.126700         0.5   \n",
       "2  0.452381        1.0             0.5   0.909807         0.5   \n",
       "3  0.357143        0.0             1.0   0.923407         0.5   \n",
       "4  0.214286        0.0             0.5   0.350036         0.5   \n",
       "\n",
       "   DistanceFromHome  Education  EducationField  EmployeeCount  EmployeeNumber  \\\n",
       "0          0.000000       0.25             0.0            0.0        0.000000   \n",
       "1          0.250000       0.00             0.0            0.0        0.000484   \n",
       "2          0.035714       0.25             1.0            0.0        0.001451   \n",
       "3          0.071429       0.75             0.0            0.0        0.001935   \n",
       "4          0.035714       0.00             0.2            0.0        0.002903   \n",
       "\n",
       "   ...  RelationshipSatisfaction  StandardHours  StockOptionLevel  \\\n",
       "0  ...                  0.000000            0.0          0.000000   \n",
       "1  ...                  1.000000            0.0          0.333333   \n",
       "2  ...                  0.333333            0.0          0.000000   \n",
       "3  ...                  0.666667            0.0          0.000000   \n",
       "4  ...                  1.000000            0.0          0.333333   \n",
       "\n",
       "   TotalWorkingYears  TrainingTimesLastYear  WorkLifeBalance  YearsAtCompany  \\\n",
       "0              0.200                    0.0         0.000000            0.15   \n",
       "1              0.250                    0.5         0.666667            0.25   \n",
       "2              0.175                    0.5         0.666667            0.00   \n",
       "3              0.200                    0.5         0.666667            0.20   \n",
       "4              0.150                    0.5         0.666667            0.05   \n",
       "\n",
       "   YearsInCurrentRole  YearsSinceLastPromotion  YearsWithCurrManager  \n",
       "0            0.222222                 0.000000              0.294118  \n",
       "1            0.388889                 0.066667              0.411765  \n",
       "2            0.000000                 0.000000              0.000000  \n",
       "3            0.388889                 0.200000              0.000000  \n",
       "4            0.111111                 0.133333              0.117647  \n",
       "\n",
       "[5 rows x 35 columns]"
      ]
     },
     "execution_count": 54,
     "metadata": {},
     "output_type": "execute_result"
    }
   ],
   "source": [
    "df.head()"
   ]
  },
  {
   "cell_type": "code",
   "execution_count": 58,
   "id": "1a7d3525",
   "metadata": {},
   "outputs": [],
   "source": [
    "from sklearn.ensemble import RandomForestClassifier\n",
    "X_train, X_test, y_train, y_test = train_test_split(df.drop(['Attrition','EmployeeCount','Over18', 'StandardHours'],axis='columns'),df.Attrition,test_size = 0.2)\n"
   ]
  },
  {
   "cell_type": "code",
   "execution_count": 59,
   "id": "c0928713",
   "metadata": {},
   "outputs": [
    {
     "data": {
      "text/plain": [
       "294"
      ]
     },
     "execution_count": 59,
     "metadata": {},
     "output_type": "execute_result"
    }
   ],
   "source": [
    "len(X_test)"
   ]
  },
  {
   "cell_type": "code",
   "execution_count": 60,
   "id": "45a3e4a8",
   "metadata": {},
   "outputs": [
    {
     "data": {
      "text/plain": [
       "RandomForestClassifier()"
      ]
     },
     "execution_count": 60,
     "metadata": {},
     "output_type": "execute_result"
    }
   ],
   "source": [
    "from sklearn.ensemble import RandomForestClassifier\n",
    "model = RandomForestClassifier()\n",
    "model.fit(X_train, y_train)"
   ]
  },
  {
   "cell_type": "code",
   "execution_count": 61,
   "id": "7b0bb2e6",
   "metadata": {},
   "outputs": [
    {
     "data": {
      "text/plain": [
       "0.8435374149659864"
      ]
     },
     "execution_count": 61,
     "metadata": {},
     "output_type": "execute_result"
    }
   ],
   "source": [
    "model.score(X_test, y_test)"
   ]
  },
  {
   "cell_type": "code",
   "execution_count": 62,
   "id": "0e624934",
   "metadata": {},
   "outputs": [],
   "source": [
    "y_predicted = model.predict(X_test)"
   ]
  },
  {
   "cell_type": "code",
   "execution_count": 63,
   "id": "d2d454d5",
   "metadata": {},
   "outputs": [
    {
     "data": {
      "text/plain": [
       "array([[238,   2],\n",
       "       [ 44,  10]], dtype=int64)"
      ]
     },
     "execution_count": 63,
     "metadata": {},
     "output_type": "execute_result"
    }
   ],
   "source": [
    "from sklearn.metrics import confusion_matrix\n",
    "cm = confusion_matrix(y_test, y_predicted)\n",
    "cm"
   ]
  },
  {
   "cell_type": "code",
   "execution_count": 64,
   "id": "95415535",
   "metadata": {},
   "outputs": [
    {
     "data": {
      "text/plain": [
       "Text(69.0, 0.5, 'Truth')"
      ]
     },
     "execution_count": 64,
     "metadata": {},
     "output_type": "execute_result"
    },
    {
     "data": {
      "image/png": "[encoded data removed]",
      "text/plain": [
       "<Figure size 720x504 with 2 Axes>"
      ]
     },
     "metadata": {
      "needs_background": "light"
     },
     "output_type": "display_data"
    }
   ],
   "source": [
    "plt.figure(figsize=(10,7))\n",
    "sns.heatmap(cm, annot = True)\n",
    "plt.xlabel('Predicted')\n",
    "plt.ylabel('Truth')"
   ]
  },
  {
   "cell_type": "code",
   "execution_count": null,
   "id": "ed5fc792",
   "metadata": {},
   "outputs": [],
   "source": []
  },
  {
   "cell_type": "code",
   "execution_count": null,
   "id": "f619691b",
   "metadata": {},
   "outputs": [],
   "source": []
  }
 ],
 "metadata": {
  "kernelspec": {
   "display_name": "Python 3 (ipykernel)",
   "language": "python",
   "name": "python3"
  },
  "language_info": {
   "codemirror_mode": {
    "name": "ipython",
    "version": 3
   },
   "file_extension": ".py",
   "mimetype": "text/x-python",
   "name": "python",
   "nbconvert_exporter": "python",
   "pygments_lexer": "ipython3",
   "version": "3.9.7"
  }
 },
 "nbformat": 4,
 "nbformat_minor": 5
}
